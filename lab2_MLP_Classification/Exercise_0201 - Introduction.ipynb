{
 "cells": [
  {
   "cell_type": "markdown",
   "source": [
    "<center><h1 style=\"font-size:40px;\">Exercise II:<br> Multi-layer perceptrons\n",
    "for classification and regression problems.\n",
    "</h1></center>\n",
    "\n",
    "---"
   ],
   "metadata": {}
  },
  {
   "cell_type": "markdown",
   "source": [
    "# Introduction"
   ],
   "metadata": {}
  },
  {
   "cell_type": "markdown",
   "source": [
    "Welcome to the second lab in the Deep learning course! In this lab we will continue to take a look at four parts for MLP classification;\n",
    "* Introduction for setup and train an MLP\n",
    "* Impact of overfitting in validation performance \n",
    "* Avoid overfitting for a regression problem\n",
    "* Model selection for classification\n",
    "\n",
    "\n",
    "\n",
    "The lab includes different datasets, binary and multiple classification problems, and function approximation problems. \n",
    "The first part of the lab uses three different synthetic classification problems. They are all 2D binary classification problems that allow for easy visual inspection of the other classes and the network decision boundary. The datasets are defined as *syn1, syn2*, and *syn3*. These datasets are generated \"on the fly\" each time and are sampled from normal distributions. Note that as the data is sampled from a distribution, the data will vary for each time the data is generated it will be slightly different.\n",
    "\n",
    "All tasks include **TODO's** these are expected to be done before the deadline for this lab. The labs also include **Question**, which should be answered and included in the report. The lab gives a hand to ensure correct answer with a few asserts or the expected results. Some sections do not contain any **TODO's** but are good to understand.\n",
    "\n",
    "Good luck!\n",
    "\n",
    "---"
   ],
   "metadata": {}
  },
  {
   "cell_type": "markdown",
   "source": [
    "The following code allows us to edit imported files without restarting the kernel for the notebook"
   ],
   "metadata": {}
  },
  {
   "cell_type": "code",
   "execution_count": 1,
   "source": [
    "%load_ext autoreload\r\n",
    "%autoreload 2\r\n",
    "\r\n",
    "# Hacky solution to access the global utils package\r\n",
    "import sys,os\r\n",
    "sys.path.append(os.path.dirname(os.path.realpath('')))"
   ],
   "outputs": [],
   "metadata": {}
  },
  {
   "cell_type": "code",
   "execution_count": 2,
   "source": [
    "import numpy as np\r\n",
    "import matplotlib.pyplot as plt\r\n",
    "import torch\r\n",
    "import pytorch_lightning as pl\r\n",
    "\r\n",
    "from config import LabConfig\r\n",
    "from dataset import MLPData\r\n",
    "from utils.model import Model\r\n",
    "from utils.progressbar import LitProgressBar\r\n",
    "from utils.model import Model\r\n",
    "from torch.utils.data import TensorDataset, DataLoader\r\n",
    "from utils import (\r\n",
    "    plot,\r\n",
    "    progressbar\r\n",
    ") "
   ],
   "outputs": [],
   "metadata": {}
  },
  {
   "cell_type": "code",
   "execution_count": null,
   "source": [
    "cfg = LabConfig()"
   ],
   "outputs": [],
   "metadata": {}
  },
  {
   "cell_type": "markdown",
   "source": [
    "## Plotting the data\n",
    "To get an idea of the datasets for this lab. Below plots with 100 sample points are generated for syn1-syn3 and the spiral dataset."
   ],
   "metadata": {}
  },
  {
   "cell_type": "code",
   "execution_count": null,
   "source": [
    "plot.data_distribution({\r\n",
    "    \"Syn1\":MLPData.syn1(100),\r\n",
    "    \"Syn2\":MLPData.syn2(100),\r\n",
    "    \"Syn3\":MLPData.syn3(100),\r\n",
    "    \"Spiral\":MLPData.spiral(cfg.spiral_path)\r\n",
    "})"
   ],
   "outputs": [],
   "metadata": {}
  },
  {
   "cell_type": "markdown",
   "source": [
    "# Defining the MLP model\n",
    "\n",
    "This cell defines the MLP model. There are a number of parameters that is needed to \n",
    "define a model. Here is a list of them: **Note:** They can all be specified when you call\n",
    "this function in later cells. The ones specified in this cell are the default values.\n"
   ],
   "metadata": {}
  },
  {
   "cell_type": "code",
   "execution_count": null,
   "source": [
    "class MLP(torch.nn.Module):\r\n",
    "    def __init__(self, \r\n",
    "                inp_dim=None,         \r\n",
    "                hidden_nodes=1,                      # number of nodes in hidden layer\r\n",
    "                num_out=None,\r\n",
    "                **kwargs\r\n",
    "            ):\r\n",
    "        super(MLP, self).__init__()\r\n",
    "        self.fc1 = torch.nn.Linear(inp_dim, hidden_nodes)\r\n",
    "        self.relu = torch.nn.ReLU()\r\n",
    "        self.fc2 = torch.nn.Linear(hidden_nodes, num_out)\r\n",
    "\r\n",
    "\r\n",
    "    def forward(self, x):\r\n",
    "        hidden = self.fc1(x)\r\n",
    "        relu = self.relu(hidden)\r\n",
    "        output = self.fc2(relu)\r\n",
    "        return torch.sigmoid(output)"
   ],
   "outputs": [],
   "metadata": {}
  },
  {
   "cell_type": "markdown",
   "source": [
    "## Define a function that allow us to convert numpy to pytorch DataLoader\r\n",
    "With this fucnction we can take a dataset from numpy and convert it to a torch tensor and then to a Dataset."
   ],
   "metadata": {}
  },
  {
   "cell_type": "code",
   "execution_count": null,
   "source": [
    "def numpy2Dataloader(x,y, batch_size=25, num_workers=10,**kwargs):\r\n",
    "    return DataLoader(\r\n",
    "        TensorDataset(\r\n",
    "            torch.from_numpy(x).float(), \r\n",
    "            torch.from_numpy(y).unsqueeze(1).float()\r\n",
    "        ),\r\n",
    "        batch_size=batch_size,\r\n",
    "        num_workers=num_workers,\r\n",
    "        **kwargs\r\n",
    "    )"
   ],
   "outputs": [],
   "metadata": {}
  },
  {
   "cell_type": "markdown",
   "source": [
    "# Excercise 1\n",
    "The cell below should be used for question 1. Looking at the code will help you understand how the network is created, trained and evaluated. It will be useful for the other questions."
   ],
   "metadata": {}
  },
  {
   "cell_type": "markdown",
   "source": [
    "**TODO:** Use syn1 with 100 data points and train a linear MLP to separate the two classes, i.e. use a single hidden node. What happened? Can the problem be solved with a single hidden node?"
   ],
   "metadata": {}
  },
  {
   "cell_type": "markdown",
   "source": [
    "## Dataset"
   ],
   "metadata": {}
  },
  {
   "cell_type": "markdown",
   "source": [
    "First we convert our dataset into a pytorch Dataset. Thereafter we load it into our DataLoader. Note that we here define the batch_size and the number of workers that should be used. "
   ],
   "metadata": {}
  },
  {
   "cell_type": "code",
   "execution_count": null,
   "source": [
    "x,y = MLPData.syn1(10000)\r\n",
    "train_loader = numpy2Dataloader(x,y)"
   ],
   "outputs": [],
   "metadata": {}
  },
  {
   "cell_type": "markdown",
   "source": [
    "## Configuration\n",
    "Setup our local config that should be used for the trainer."
   ],
   "metadata": {}
  },
  {
   "cell_type": "code",
   "execution_count": null,
   "source": [
    "config = {\r\n",
    "    'max_epochs':4,\r\n",
    "    'model_params':{\r\n",
    "        'inp_dim':x.shape[1],         \r\n",
    "        'hidden_nodes':1,   # activation functions for the hidden layer\r\n",
    "        'num_out':1 # if binary --> 1 |  regression--> num inputs | multi-class--> num of classes\r\n",
    "    },\r\n",
    "    'criterion':torch.nn.BCELoss(), # error function\r\n",
    "    'optimizer':{\r\n",
    "        \"type\":torch.optim.Adam,\r\n",
    "        \"args\":{\r\n",
    "            \"lr\":0.005,\r\n",
    "        }\r\n",
    "    }\r\n",
    "}"
   ],
   "outputs": [],
   "metadata": {}
  },
  {
   "cell_type": "markdown",
   "source": [
    "## Training"
   ],
   "metadata": {}
  },
  {
   "cell_type": "markdown",
   "source": [
    "Lastly, put everything together and call on the trainers fit method. "
   ],
   "metadata": {}
  },
  {
   "cell_type": "code",
   "execution_count": null,
   "source": [
    "model = Model(MLP(**config[\"model_params\"]),**config)\r\n",
    "\r\n",
    "trainer = pl.Trainer(\r\n",
    "            max_epochs=config['max_epochs'], \r\n",
    "            gpus=cfg.GPU,\r\n",
    "            logger=pl.loggers.TensorBoardLogger(save_dir=cfg.TENSORBORD_DIR),\r\n",
    "            callbacks=[LitProgressBar()],\r\n",
    "            progress_bar_refresh_rate=1,\r\n",
    "            weights_summary=None, # Can be None, top or full\r\n",
    "            num_sanity_val_steps=10,   \r\n",
    "        )\r\n",
    "trainer.fit(\r\n",
    "    model, \r\n",
    "    train_dataloader=train_loader\r\n",
    ");"
   ],
   "outputs": [],
   "metadata": {}
  },
  {
   "cell_type": "markdown",
   "source": [
    "## Evaluation"
   ],
   "metadata": {}
  },
  {
   "cell_type": "code",
   "execution_count": null,
   "source": [
    "plot.decision_bondary(trainer.lightning_module, x,y) # To be fixed!"
   ],
   "outputs": [],
   "metadata": {}
  },
  {
   "cell_type": "code",
   "execution_count": null,
   "source": [
    "#metrics.stats_class()\r\n",
    "plot.stats_class(x, y, 'Training', trainer.get_model())"
   ],
   "outputs": [],
   "metadata": {}
  }
 ],
 "metadata": {
  "kernelspec": {
   "name": "python3",
   "display_name": "Python 3.9.6 64-bit ('DL_labs': conda)"
  },
  "language_info": {
   "codemirror_mode": {
    "name": "ipython",
    "version": 3
   },
   "file_extension": ".py",
   "mimetype": "text/x-python",
   "name": "python",
   "nbconvert_exporter": "python",
   "pygments_lexer": "ipython3",
   "version": "3.9.6"
  },
  "interpreter": {
   "hash": "4ccf88e37874d44b4dfe33c31e1bb4a10ca4e414e0a68744582aebd290f71bcd"
  }
 },
 "nbformat": 4,
 "nbformat_minor": 4
}