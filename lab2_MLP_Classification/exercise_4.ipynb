{
 "cells": [
  {
   "cell_type": "markdown",
   "metadata": {},
   "source": [
    "<h1 style=\"font-size:40px;\"><center>Exercise IV: Classification\n",
    "    \n",
    "</center></h1>"
   ]
  },
  {
   "cell_type": "markdown",
   "metadata": {},
   "source": [
    "For this exercise you are given a classification problem with a fixed training-, validation- and test dataset. The data is the Japanse vowels dataset described in the first cell. Your task is to do model selection, coming up with your optimal MLP architecture together with the hyperparameters you used. We do not provide any python code for this question, only the small part that reads the data (next code cell). There is an additional code cell that can be used to print the confusion matrix for the test data (see comments within that cell). (You can modify this function if you want to compute this matrix for both training and validation.)\n",
    "\n",
    "# Data\n",
    "## Spiral data\n",
    "This is the \"famous\" spiral dataset that consists of two 2-D spirals, one for each class. The perfect classification boundary is also a spiral. The cell \"PlotData\" will plot this dataset.\n",
    "\n",
    "## Japanese vowels dataset\n",
    "*This data set is taken from the UCI Machine Learning Repository [https://archive.ics.uci.edu/ml/datasets/Japanese+Vowels].* In short, nine male speakers uttered two Japanese vowels /ae/ successively. For each utterance, a discrete times series was produced where each time point consists of 12 (LPC cepstrum) coefficients. The length of each time series was between 7-29. \n",
    "Here we treat each point of the time series as a feature (12 inputs). In total we have 9961\n",
    "data points which then has been divided into 4274 for training, 2275 for validation and 3412 for test. The original data files are provided as *ae.train* and *ae.test*. The task is now based on a single sample value of one of the speakers, determine which speaker it was. This is, in summary, a 9-class classification problem with 12 input values for each case.\n",
    "# Tasks\n",
    "\n",
    "## Task 1\n",
    "**TODO:** Present an MLP with associated hyperparameters that maximizes the validation performance and give the test performance you obtained.\n",
    "\n",
    "**Hint 1:** \n",
    "Remember to check if input data needs to be normalized. See the \"Ex3\" cell how this was done (in that case for the target data).\n",
    "\n",
    "**Hint 2:** \n",
    "This problem is a 9-class classification problem, meaning that you should use a specific output activation function (*out_act_fun*) and a specific loss/error function (*cost_fun*).\n",
    "\n",
    "**Hint 3:**\n",
    "The function *stats_class* function does not work here since it is designed for binary classification problems.\n"
   ]
  },
  {
   "cell_type": "code",
   "execution_count": null,
   "metadata": {},
   "outputs": [],
   "source": [
    "%%time\n",
    "\n",
    "x_train, y_train, x_val, y_val, x_test, y_test = MLPData.vowels()\n",
    "num_classes = 9\n",
    "\n",
    "print('train input size: ',x_train.shape, 'train target size: ',y_train.shape)\n",
    "print('val   input size: ',x_val.shape, 'val   target size: ',y_val.shape)\n",
    "print('test  input size: ',x_test.shape, 'test  target size: ',y_test.shape)\n",
    "\n",
    "# Define the network, cost function and minimization method,\n",
    "# train and evaluate the result\n"
   ]
  },
  {
   "cell_type": "code",
   "execution_count": null,
   "metadata": {},
   "outputs": [],
   "source": [
    "\"\"\"\n",
    "This cell can be used to present the classification results. \n",
    "It assumes you trained model has the name 'model_vowels'. \n",
    "It shows the test data results, but it can be changed to show\n",
    "the training/validation.\n",
    "\"\"\"\n",
    "print('\\n','#'*10,'Result for {} Data'.format('Test'), '#'*10, '\\n')\n",
    "\n",
    "y_pred = model_vowels.predict(x_test, verbose=0 )\n",
    "print('log_loss:   ', log_loss(y_test, y_pred, eps=1e-15))\n",
    "\n",
    "y_true = y_test.argmax(axis=1)\n",
    "y_pred = y_pred.argmax(axis=1)\n",
    "print('accuracy:   ',(y_pred==y_true).mean(), '\\n')\n",
    "\n",
    "target_names = ['class {}'.format(i+1) for i in range(9)]\n",
    "print(classification_report(y_true, y_pred, target_names=target_names))\n",
    "\n",
    "confuTst = confusion_matrix(y_true, y_pred)\n",
    "plot_confusion_matrix(cm           = confuTst, \n",
    "                      normalize    = False,\n",
    "                      target_names = ['1', '2', '3', '4', '5', '6','7', '8','9'],\n",
    "                      title        = \"Confusion Matrix: Test data\")\n",
    "\n"
   ]
  },
  {
   "cell_type": "markdown",
   "metadata": {},
   "source": [
    "## Task 2\n",
    "For this last exercise the task is to train a binary classifier for the spiral problem. The aim is to get *zero* classification error for the training data (there is no test data) with as small as possible model, in terms of the number of trainable weights. Also plot the boundary to see if it resembles a spriral. To pass this question you should at least try!\n",
    "\n",
    "**TODO:** Train a classifier for the spiral problem with the aim of zero classification error with as small as possible model."
   ]
  },
  {
   "cell_type": "code",
   "execution_count": null,
   "metadata": {
    "scrolled": true
   },
   "outputs": [],
   "source": [
    "# seed = 0 means random, seed > 0 means fixed\n",
    "\n",
    "# Generate training data\n",
    "x_train, d_train = MLPData.spiral()\n",
    "x_train = x_train / 5\n",
    "\n",
    "# Define the network, cost function and minimization method,\n",
    "# train and evaluate the result\n"
   ]
  }
 ],
 "metadata": {
  "kernelspec": {
   "display_name": "DL-Labs",
   "language": "python",
   "name": "dl-labs"
  },
  "language_info": {
   "codemirror_mode": {
    "name": "ipython",
    "version": 3
   },
   "file_extension": ".py",
   "mimetype": "text/x-python",
   "name": "python",
   "nbconvert_exporter": "python",
   "pygments_lexer": "ipython3",
   "version": "3.9.1"
  }
 },
 "nbformat": 4,
 "nbformat_minor": 4
}
