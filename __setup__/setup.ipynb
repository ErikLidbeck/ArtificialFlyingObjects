{
 "cells": [
  {
   "cell_type": "code",
   "execution_count": 7,
   "id": "lasting-attendance",
   "metadata": {},
   "outputs": [
    {
     "name": "stdout",
     "output_type": "stream",
     "text": [
      "The autoreload extension is already loaded. To reload it, use:\n",
      "  %reload_ext autoreload\n"
     ]
    }
   ],
   "source": [
    "%load_ext autoreload\n",
    "%autoreload 2"
   ]
  },
  {
   "cell_type": "code",
   "execution_count": 11,
   "id": "prescription-movie",
   "metadata": {},
   "outputs": [],
   "source": [
    "from data import HDF5File\n",
    "from easydict import EasyDict as edict"
   ]
  },
  {
   "cell_type": "code",
   "execution_count": 12,
   "id": "actual-festival",
   "metadata": {},
   "outputs": [],
   "source": [
    "cfg = edict()\n",
    "cfg.IMAGE_WIDTH = 128\n",
    "cfg.IMAGE_HEIGHT = 128     \n",
    "cfg.IMAGE_CHANNEL = 3 \n",
    "cfg.CLASSES = [\n",
    "  'square_red',\n",
    "  'square_green',\n",
    "  'square_blue',\n",
    "  'square_yellow',\n",
    "  'triangle_red',\n",
    "  'triangle_green',\n",
    "  'triangle_blue',\n",
    "  'triangle_yellow',\n",
    "  'circular_red',\n",
    "  'circular_green',\n",
    "  'circular_blue',\n",
    "  'circular_yellow'\n",
    "]\n",
    "cfg.testing_h5_dir = \"../data/training_flyingData.hdf5\"\n",
    "cfg.validation_h5_dir = \"../data/validation_flyingData.hdf5\"\n",
    "cfg.testing_h5_dir = \"../data/testing_flyingData.hdf5\"\n",
    "\n",
    "cfg.training_img_dir = \"../data/FlyingObjectDataset_10K/training\"\n",
    "cfg.validation_img_dir = \"../data/FlyingObjectDataset_10K/validation\"\n",
    "cfg.testing_img_dir = \"../data/FlyingObjectDataset_10K/testing\""
   ]
  },
  {
   "cell_type": "code",
   "execution_count": 14,
   "id": "bigger-symposium",
   "metadata": {},
   "outputs": [
    {
     "name": "stdout",
     "output_type": "stream",
     "text": [
      "Processing: training\n",
      "Finished loading data..\n",
      "Processing: validation\n",
      "Finished loading data..\n",
      "Processing: testing\n",
      "Finished loading data..\n"
     ]
    }
   ],
   "source": [
    "img_shape = cfg.IMAGE_HEIGHT, cfg.IMAGE_WIDTH, cfg.IMAGE_CHANNEL\n",
    "data = HDF5File(img_shape, cfg.CLASSES)\n",
    "\n",
    "data.create_datasets([cfg.training_img_dir, cfg.validation_img_dir,cfg.testing_img_dir])"
   ]
  }
 ],
 "metadata": {
  "kernelspec": {
   "display_name": "DL-Labs",
   "language": "python",
   "name": "dl-labs"
  },
  "language_info": {
   "codemirror_mode": {
    "name": "ipython",
    "version": 3
   },
   "file_extension": ".py",
   "mimetype": "text/x-python",
   "name": "python",
   "nbconvert_exporter": "python",
   "pygments_lexer": "ipython3",
   "version": "3.9.1"
  }
 },
 "nbformat": 4,
 "nbformat_minor": 5
}
