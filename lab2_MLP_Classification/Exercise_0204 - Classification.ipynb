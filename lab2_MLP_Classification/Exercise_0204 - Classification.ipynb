{
 "cells": [
  {
   "cell_type": "markdown",
   "metadata": {},
   "source": [
    "<center><h1 style=\"font-size:40px;\">Exercise II: Classification</h1></center>\n",
    "\n",
    "---"
   ]
  },
  {
   "cell_type": "markdown",
   "metadata": {},
   "source": [
    "For this exercise you are given two classification problems with a fixed training-, validation- and test dataset. A spiral dataset and a japanese vowels dataset.\n",
    "\n",
    "The **task** is to do model selection, coming up with your optimal MLP architecture together with the hyperparameters. For this part no code for the configuration or training are given. Please implement this based on the previous parts. A small evaluation section is provided to observe the confusion matrix for the prediction vs target.\n",
    "\n",
    "# Data\n",
    "## Japanese vowels dataset\n",
    "This data set is taken from the UCI Machine Learning Repository [https://archive.ics.uci.edu/ml/datasets/Japanese+Vowels]. In short, nine male speakers uttered two Japanese vowels /ae/ successively. For each utterance, a discrete times series was produced where each time point consists of 12 (LPC cepstrum) coefficients. The length of each time series was between 7-29. \n",
    "Here we treat each point of the time series as a feature (12 inputs). In total we have 9961\n",
    "data points which then has been divided into 4274 for training, 2275 for validation and 3412 for test. The original data files are provided as *ae.train* and *ae.test*. The task is now based on a single sample value of one of the speakers, determine which speaker it was. This is, in summary, a 9-class classification problem with 12 input values for each case.\n",
    "\n",
    "## Spiral data\n",
    "This is the \"famous\" spiral dataset that consists of two 2-D spirals, one for each class. The perfect classification boundary is also a spiral. The cell \"PlotData\" will plot this dataset."
   ]
  },
  {
   "cell_type": "markdown",
   "metadata": {},
   "source": [
    "# Code"
   ]
  },
  {
   "cell_type": "markdown",
   "metadata": {},
   "source": [
    "The following code allows us to edit imported files without restarting the kernel for the notebook"
   ]
  },
  {
   "cell_type": "code",
   "execution_count": 1,
   "metadata": {},
   "outputs": [],
   "source": [
    "%load_ext autoreload\n",
    "%autoreload 2\n",
    "\n",
    "# Hacky solution to access the global utils package\n",
    "import sys,os\n",
    "sys.path.append(os.path.dirname(os.path.realpath('')))"
   ]
  },
  {
   "cell_type": "code",
   "execution_count": 8,
   "metadata": {},
   "outputs": [],
   "source": [
    "import numpy as np\n",
    "import matplotlib.pyplot as plt\n",
    "import torch\n",
    "import pytorch_lightning as pl\n",
    "\n",
    "from pytorch_lightning.callbacks import RichProgressBar\n",
    "from pytorch_lightning.callbacks.progress import TQDMProgressBar\n",
    "from config import LabConfig\n",
    "from dataset import MLPData\n",
    "from utils.model import Model\n",
    "from utils.progressbar import LitProgressBar\n",
    "from utils.model import Model\n",
    "from torch.utils.data import TensorDataset, DataLoader\n",
    "import torchmetrics\n",
    "from utils import (\n",
    "    plot,\n",
    "    progressbar\n",
    ") "
   ]
  },
  {
   "cell_type": "code",
   "execution_count": 3,
   "metadata": {},
   "outputs": [],
   "source": [
    "cfg = LabConfig()"
   ]
  },
  {
   "cell_type": "markdown",
   "metadata": {},
   "source": [
    "## Task 1\n",
    "**TODO:** Present an MLP for the Japanese vowels dataset with associated hyperparameters that maximizes the validation performance and give the test performance you obtained. \\\n",
    "**TODO:** Motivate the choice of parameters and implementation. \n",
    "\n",
    "**Hint 2:** This problem is a 9-class classification problem, meaning that you should use a specific output activation function (*out_act_fun*) and a specific loss/error function (*cost_fun*)."
   ]
  },
  {
   "cell_type": "code",
   "execution_count": 161,
   "metadata": {},
   "outputs": [
    {
     "name": "stdout",
     "output_type": "stream",
     "text": [
      "|Type       | Input size | Target size|\n",
      "|-----------|------------|------------|\n",
      "|train      | (4274, 12) | (4274, 9)  |\n",
      "|val        | (2275, 12) | (2275, 9)  |\n",
      "|test       | (3412, 12) | (3412, 9)  |\n"
     ]
    }
   ],
   "source": [
    "# Load dataset - Vowels\n",
    "from utils.utils import onehot2int\n",
    "def numpy2Dataloader(x,y, batch_size=80, num_workers=0,**kwargs):\n",
    "    return DataLoader(\n",
    "        TensorDataset(\n",
    "            torch.from_numpy(x).float(), \n",
    "            torch.from_numpy(np.argmax(y,axis=1)).long()\n",
    "        ),\n",
    "        batch_size=batch_size,\n",
    "        num_workers=num_workers,\n",
    "        **kwargs\n",
    "    )\n",
    "\n",
    "x_train, y_train, x_val, y_val, x_test, y_test = MLPData.vowels(file_name_train=cfg.ae_train, file_name_test=cfg.ae_test)\n",
    "\n",
    "train_loader = numpy2Dataloader(x_train,y_train)\n",
    "val_loader =  numpy2Dataloader(x_val,y_val)\n",
    "test_loader =  numpy2Dataloader(x_test,y_test)\n",
    "\n",
    "num_classes = 9\n",
    "print(f'|{\"Type\":10} | {\"Input size\":10} | {\"Target size\":10}|')\n",
    "print(f'|{\"-\"*11}|{\"-\"*12}|{\"-\"*12}|')\n",
    "print(f'|{\"train\":10} | {str(x_train.shape):10} | {str(y_train.shape):10} |')\n",
    "print(f'|{\"val\":8}   | {str(x_val.shape):10} | {str(y_val.shape):10} |')\n",
    "print(f'|{\"test\":9}  | {str(x_test.shape):10} | {str(y_test.shape):10} |')"
   ]
  },
  {
   "cell_type": "markdown",
   "metadata": {},
   "source": [
    "### Model"
   ]
  },
  {
   "cell_type": "code",
   "execution_count": 191,
   "metadata": {},
   "outputs": [],
   "source": [
    "class MLP(torch.nn.Module):\n",
    "    def __init__(self, \n",
    "                inp_dim=None,         \n",
    "                hidden_nodes=1, # number of nodes in hidden layer\n",
    "                num_layers=1,\n",
    "                num_out=None,\n",
    "                **kwargs\n",
    "            ):\n",
    "        super(MLP, self).__init__()\n",
    "        layers = []\n",
    "        # Input\n",
    "        layers.append(torch.nn.Linear(inp_dim, hidden_nodes))\n",
    "        layers.append(torch.nn.ReLU())\n",
    "        # Hidden\n",
    "        for i in range(num_layers):\n",
    "            layers.append(torch.nn.Linear(hidden_nodes, hidden_nodes))\n",
    "            layers.append(torch.nn.ReLU())\n",
    "        # Output\n",
    "        layers.append(torch.nn.Linear(hidden_nodes, num_out))\n",
    "        #layers.append(torch.nn.Softmax())\n",
    "        self.sequential = torch.nn.Sequential(*layers) # Unpacking all layers into a Sequential container\n",
    "    \n",
    "    def forward(self, x):\n",
    "        return self.sequential(x)"
   ]
  },
  {
   "cell_type": "markdown",
   "metadata": {},
   "source": [
    "### Config"
   ]
  },
  {
   "cell_type": "code",
   "execution_count": 247,
   "metadata": {},
   "outputs": [],
   "source": [
    "config = {\n",
    "    'max_epochs':100,\n",
    "    'model_params':{\n",
    "        'inp_dim':12,         \n",
    "        'hidden_nodes':80,   # activation functions for the hidden layer,\n",
    "        'hidden_layers':0,\n",
    "        'num_out':9 # if binary --> 1 |  regression--> num inputs | multi-class--> num of classes\n",
    "    },\n",
    "    'criterion':torch.nn.CrossEntropyLoss(), # error function\n",
    "    'optimizer':{\n",
    "        \"type\":torch.optim.Adam,\n",
    "        \"args\":{\n",
    "            \"lr\":0.004,\n",
    "            'weight_decay':0.001\n",
    "            \n",
    "        }\n",
    "    }\n",
    "}"
   ]
  },
  {
   "cell_type": "markdown",
   "metadata": {},
   "source": [
    "### Run Model"
   ]
  },
  {
   "cell_type": "code",
   "execution_count": 248,
   "metadata": {},
   "outputs": [
    {
     "name": "stderr",
     "output_type": "stream",
     "text": [
      "GPU available: True, used: False\n",
      "TPU available: False, using: 0 TPU cores\n",
      "IPU available: False, using: 0 IPUs\n"
     ]
    },
    {
     "name": "stdout",
     "output_type": "stream",
     "text": [
      "Epoch 0:  65%|██████▌   | 54/83 [00:00<00:00, 278.35it/s, loss=2.4, v_num=97] \n",
      "Validating: 0it [00:00, ?it/s]\u001b[A\n",
      "Epoch 0: 100%|██████████| 83/83 [00:00<00:00, 364.04it/s, loss=2.4, v_num=97]\n",
      "Epoch 1:  65%|██████▌   | 54/83 [00:00<00:00, 303.37it/s, loss=2.33, v_num=97]\n",
      "Validating: 0it [00:00, ?it/s]\u001b[A\n",
      "Epoch 1: 100%|██████████| 83/83 [00:00<00:00, 391.51it/s, loss=2.33, v_num=97]\n",
      "Epoch 2:  65%|██████▌   | 54/83 [00:00<00:00, 305.09it/s, loss=2.31, v_num=97]\n",
      "Validating: 0it [00:00, ?it/s]\u001b[A\n",
      "Epoch 2: 100%|██████████| 83/83 [00:00<00:00, 397.13it/s, loss=2.31, v_num=97]\n",
      "Epoch 3:  65%|██████▌   | 54/83 [00:00<00:00, 282.67it/s, loss=2.31, v_num=97]\n",
      "Validating: 0it [00:00, ?it/s]\u001b[A\n",
      "Epoch 3: 100%|██████████| 83/83 [00:00<00:00, 368.83it/s, loss=2.31, v_num=97]\n",
      "Epoch 4:  65%|██████▌   | 54/83 [00:00<00:00, 281.25it/s, loss=2.32, v_num=97]\n",
      "Validating: 0it [00:00, ?it/s]\u001b[A\n",
      "Epoch 4: 100%|██████████| 83/83 [00:00<00:00, 357.76it/s, loss=2.32, v_num=97]\n",
      "Epoch 5:  65%|██████▌   | 54/83 [00:00<00:00, 302.31it/s, loss=2.34, v_num=97]\n",
      "Validating: 0it [00:00, ?it/s]\u001b[A\n",
      "Epoch 5: 100%|██████████| 83/83 [00:00<00:00, 383.09it/s, loss=2.34, v_num=97]\n",
      "Epoch 6:  65%|██████▌   | 54/83 [00:00<00:00, 297.39it/s, loss=2.4, v_num=97] \n",
      "Validating: 0it [00:00, ?it/s]\u001b[A\n",
      "Epoch 6: 100%|██████████| 83/83 [00:00<00:00, 379.73it/s, loss=2.4, v_num=97]\n",
      "Epoch 7:  65%|██████▌   | 54/83 [00:00<00:00, 282.72it/s, loss=2.27, v_num=97]\n",
      "Validating: 0it [00:00, ?it/s]\u001b[A\n",
      "Epoch 7: 100%|██████████| 83/83 [00:00<00:00, 364.04it/s, loss=2.27, v_num=97]\n",
      "Epoch 8:  65%|██████▌   | 54/83 [00:00<00:00, 244.34it/s, loss=2.39, v_num=97]\n",
      "Validating: 0it [00:00, ?it/s]\u001b[A\n",
      "Epoch 8: 100%|██████████| 83/83 [00:00<00:00, 320.46it/s, loss=2.39, v_num=97]\n",
      "Epoch 9:  65%|██████▌   | 54/83 [00:00<00:00, 291.89it/s, loss=2.27, v_num=97]\n",
      "Validating: 0it [00:00, ?it/s]\u001b[A\n",
      "Epoch 9: 100%|██████████| 83/83 [00:00<00:00, 377.27it/s, loss=2.27, v_num=97]\n",
      "Epoch 10:  65%|██████▌   | 54/83 [00:00<00:00, 300.51it/s, loss=2.36, v_num=97]\n",
      "Validating: 0it [00:00, ?it/s]\u001b[A\n",
      "Epoch 10: 100%|██████████| 83/83 [00:00<00:00, 386.60it/s, loss=2.36, v_num=97]\n",
      "Epoch 11:  65%|██████▌   | 54/83 [00:00<00:00, 296.70it/s, loss=2.14, v_num=97]\n",
      "Validating: 0it [00:00, ?it/s]\u001b[A\n",
      "Epoch 11: 100%|██████████| 83/83 [00:00<00:00, 387.85it/s, loss=2.14, v_num=97]\n",
      "Epoch 12:  65%|██████▌   | 54/83 [00:00<00:00, 284.21it/s, loss=2.01, v_num=97]\n",
      "Validating: 0it [00:00, ?it/s]\u001b[A\n",
      "Epoch 12: 100%|██████████| 83/83 [00:00<00:00, 373.93it/s, loss=2.01, v_num=97]\n",
      "Epoch 13:  65%|██████▌   | 54/83 [00:00<00:00, 289.14it/s, loss=1.93, v_num=97]\n",
      "Validating: 0it [00:00, ?it/s]\u001b[A\n",
      "Epoch 13: 100%|██████████| 83/83 [00:00<00:00, 377.68it/s, loss=1.93, v_num=97]\n",
      "Epoch 14:  65%|██████▌   | 54/83 [00:00<00:00, 296.71it/s, loss=1.87, v_num=97]\n",
      "Validating: 0it [00:00, ?it/s]\u001b[A\n",
      "Epoch 14: 100%|██████████| 83/83 [00:00<00:00, 377.28it/s, loss=1.87, v_num=97]\n",
      "Epoch 15:  65%|██████▌   | 54/83 [00:00<00:00, 289.52it/s, loss=1.83, v_num=97]\n",
      "Validating: 0it [00:00, ?it/s]\u001b[A\n",
      "Epoch 15: 100%|██████████| 83/83 [00:00<00:00, 376.39it/s, loss=1.83, v_num=97]\n",
      "Epoch 16:  65%|██████▌   | 54/83 [00:00<00:00, 294.63it/s, loss=1.81, v_num=97]\n",
      "Validating: 0it [00:00, ?it/s]\u001b[A\n",
      "Epoch 16: 100%|██████████| 83/83 [00:00<00:00, 380.24it/s, loss=1.81, v_num=97]\n",
      "Epoch 17:  65%|██████▌   | 54/83 [00:00<00:00, 262.73it/s, loss=1.79, v_num=97]\n",
      "Validating: 0it [00:00, ?it/s]\u001b[A\n",
      "Epoch 17: 100%|██████████| 83/83 [00:00<00:00, 339.42it/s, loss=1.79, v_num=97]\n",
      "Epoch 18:  65%|██████▌   | 54/83 [00:00<00:00, 282.72it/s, loss=1.76, v_num=97]\n",
      "Validating: 0it [00:00, ?it/s]\u001b[A\n",
      "Epoch 18: 100%|██████████| 83/83 [00:00<00:00, 365.64it/s, loss=1.76, v_num=97]\n",
      "Epoch 19:  65%|██████▌   | 54/83 [00:00<00:00, 290.33it/s, loss=1.73, v_num=97]\n",
      "Validating: 0it [00:00, ?it/s]\u001b[A\n",
      "Epoch 19: 100%|██████████| 83/83 [00:00<00:00, 378.99it/s, loss=1.73, v_num=97]\n",
      "Epoch 20:  65%|██████▌   | 54/83 [00:00<00:00, 296.70it/s, loss=1.72, v_num=97]\n",
      "Validating: 0it [00:00, ?it/s]\u001b[A\n",
      "Epoch 20: 100%|██████████| 83/83 [00:00<00:00, 373.88it/s, loss=1.72, v_num=97]\n",
      "Epoch 21:  65%|██████▌   | 54/83 [00:00<00:00, 298.34it/s, loss=1.69, v_num=97]\n",
      "Validating: 0it [00:00, ?it/s]\u001b[A\n",
      "Epoch 21: 100%|██████████| 83/83 [00:00<00:00, 387.85it/s, loss=1.69, v_num=97]\n",
      "Epoch 22:  65%|██████▌   | 54/83 [00:00<00:00, 290.27it/s, loss=1.65, v_num=97]\n",
      "Validating: 0it [00:00, ?it/s]\u001b[A\n",
      "Epoch 22: 100%|██████████| 83/83 [00:00<00:00, 375.51it/s, loss=1.65, v_num=97]\n",
      "Epoch 23:  65%|██████▌   | 54/83 [00:00<00:00, 296.70it/s, loss=1.64, v_num=97]\n",
      "Validating: 0it [00:00, ?it/s]\u001b[A\n",
      "Epoch 23: 100%|██████████| 83/83 [00:00<00:00, 384.26it/s, loss=1.64, v_num=97]\n",
      "Epoch 24:  65%|██████▌   | 54/83 [00:00<00:00, 287.23it/s, loss=1.68, v_num=97]\n",
      "Validating: 0it [00:00, ?it/s]\u001b[A\n",
      "Epoch 24: 100%|██████████| 83/83 [00:00<00:00, 375.57it/s, loss=1.68, v_num=97]\n",
      "Epoch 25:  65%|██████▌   | 54/83 [00:00<00:00, 287.24it/s, loss=1.59, v_num=97]\n",
      "Validating: 0it [00:00, ?it/s]\u001b[A\n",
      "Epoch 25: 100%|██████████| 83/83 [00:00<00:00, 373.88it/s, loss=1.59, v_num=97]\n",
      "Epoch 26:  65%|██████▌   | 54/83 [00:00<00:00, 271.36it/s, loss=1.54, v_num=97]\n",
      "Validating: 0it [00:00, ?it/s]\u001b[A\n",
      "Epoch 26: 100%|██████████| 83/83 [00:00<00:00, 357.76it/s, loss=1.54, v_num=97]\n",
      "Epoch 27:  65%|██████▌   | 54/83 [00:00<00:00, 267.33it/s, loss=1.51, v_num=97]\n",
      "Validating: 0it [00:00, ?it/s]\u001b[A\n",
      "Epoch 27: 100%|██████████| 83/83 [00:00<00:00, 344.40it/s, loss=1.51, v_num=97]\n",
      "Epoch 28:  65%|██████▌   | 54/83 [00:00<00:00, 272.73it/s, loss=1.48, v_num=97]\n",
      "Validating: 0it [00:00, ?it/s]\u001b[A\n",
      "Epoch 28: 100%|██████████| 83/83 [00:00<00:00, 360.87it/s, loss=1.48, v_num=97]\n",
      "Epoch 29:  65%|██████▌   | 54/83 [00:00<00:00, 266.01it/s, loss=1.47, v_num=97]\n",
      "Validating: 0it [00:00, ?it/s]\u001b[A\n",
      "Epoch 29: 100%|██████████| 83/83 [00:00<00:00, 344.40it/s, loss=1.47, v_num=97]\n",
      "Epoch 30:  65%|██████▌   | 54/83 [00:00<00:00, 264.71it/s, loss=1.37, v_num=97] \n",
      "Validating: 0it [00:00, ?it/s]\u001b[A\n",
      "Epoch 30: 100%|██████████| 83/83 [00:00<00:00, 344.40it/s, loss=1.37, v_num=97]\n",
      "Epoch 31:  65%|██████▌   | 54/83 [00:00<00:00, 254.72it/s, loss=1.38, v_num=97] \n",
      "Validating: 0it [00:00, ?it/s]\u001b[A\n",
      "Epoch 31: 100%|██████████| 83/83 [00:00<00:00, 322.96it/s, loss=1.38, v_num=97]\n",
      "Epoch 32:  65%|██████▌   | 54/83 [00:00<00:00, 258.37it/s, loss=1.28, v_num=97] \n",
      "Validating: 0it [00:00, ?it/s]\u001b[A\n",
      "Epoch 32: 100%|██████████| 83/83 [00:00<00:00, 337.40it/s, loss=1.28, v_num=97]\n",
      "Epoch 33:  65%|██████▌   | 54/83 [00:00<00:00, 253.52it/s, loss=1.29, v_num=97] \n",
      "Validating: 0it [00:00, ?it/s]\u001b[A\n",
      "Epoch 33: 100%|██████████| 83/83 [00:00<00:00, 333.33it/s, loss=1.29, v_num=97]\n",
      "Epoch 34:  65%|██████▌   | 54/83 [00:00<00:00, 221.31it/s, loss=1.21, v_num=97] \n",
      "Validating: 0it [00:00, ?it/s]\u001b[A\n",
      "Epoch 34: 100%|██████████| 83/83 [00:00<00:00, 294.33it/s, loss=1.21, v_num=97]\n",
      "Epoch 35:  65%|██████▌   | 54/83 [00:00<00:00, 264.67it/s, loss=1.2, v_num=97]  \n",
      "Validating: 0it [00:00, ?it/s]\u001b[A\n",
      "Epoch 35: 100%|██████████| 83/83 [00:00<00:00, 348.70it/s, loss=1.2, v_num=97]\n",
      "Epoch 36:  65%|██████▌   | 54/83 [00:00<00:00, 254.72it/s, loss=1.18, v_num=97] \n",
      "Validating: 0it [00:00, ?it/s]\u001b[A\n",
      "Epoch 36: 100%|██████████| 83/83 [00:00<00:00, 336.03it/s, loss=1.18, v_num=97]\n",
      "Epoch 37:  65%|██████▌   | 54/83 [00:00<00:00, 257.14it/s, loss=1.13, v_num=97] \n",
      "Validating: 0it [00:00, ?it/s]\u001b[A\n",
      "Epoch 37: 100%|██████████| 83/83 [00:00<00:00, 334.68it/s, loss=1.13, v_num=97]\n",
      "Epoch 38:  65%|██████▌   | 54/83 [00:00<00:00, 248.85it/s, loss=1.11, v_num=97] \n",
      "Validating: 0it [00:00, ?it/s]\u001b[A\n",
      "Epoch 38: 100%|██████████| 83/83 [00:00<00:00, 329.36it/s, loss=1.11, v_num=97]\n",
      "Epoch 39:  65%|██████▌   | 54/83 [00:00<00:00, 257.11it/s, loss=1.09, v_num=97] \n",
      "Validating: 0it [00:00, ?it/s]\u001b[A\n",
      "Epoch 39: 100%|██████████| 83/83 [00:00<00:00, 337.36it/s, loss=1.09, v_num=97]\n",
      "Epoch 40:  65%|██████▌   | 54/83 [00:00<00:00, 252.34it/s, loss=1.08, v_num=97] \n",
      "Validating: 0it [00:00, ?it/s]\u001b[A\n",
      "Epoch 40: 100%|██████████| 83/83 [00:00<00:00, 329.37it/s, loss=1.08, v_num=97]\n",
      "Epoch 41:  65%|██████▌   | 54/83 [00:00<00:00, 253.52it/s, loss=1.07, v_num=97] \n",
      "Validating: 0it [00:00, ?it/s]\u001b[A\n",
      "Epoch 41: 100%|██████████| 83/83 [00:00<00:00, 325.49it/s, loss=1.07, v_num=97]\n",
      "Epoch 42:  65%|██████▌   | 54/83 [00:00<00:00, 259.62it/s, loss=1.05, v_num=97] \n",
      "Validating: 0it [00:00, ?it/s]\u001b[A\n",
      "Epoch 42: 100%|██████████| 83/83 [00:00<00:00, 338.07it/s, loss=1.05, v_num=97]\n",
      "Epoch 43:  65%|██████▌   | 54/83 [00:00<00:00, 255.89it/s, loss=1.03, v_num=97] \n",
      "Validating: 0it [00:00, ?it/s]\u001b[A\n",
      "Epoch 43: 100%|██████████| 83/83 [00:00<00:00, 334.64it/s, loss=1.03, v_num=97]\n",
      "Epoch 44:  65%|██████▌   | 54/83 [00:00<00:00, 254.72it/s, loss=1.01, v_num=97] \n",
      "Validating: 0it [00:00, ?it/s]\u001b[A\n",
      "Epoch 44: 100%|██████████| 83/83 [00:00<00:00, 332.00it/s, loss=1.01, v_num=97]\n",
      "Epoch 45:  65%|██████▌   | 54/83 [00:00<00:00, 242.15it/s, loss=0.988, v_num=97]\n",
      "Validating: 0it [00:00, ?it/s]\u001b[A\n",
      "Epoch 45: 100%|██████████| 83/83 [00:00<00:00, 320.47it/s, loss=0.988, v_num=97]\n",
      "Epoch 46:  65%|██████▌   | 54/83 [00:00<00:00, 251.17it/s, loss=0.965, v_num=97]\n",
      "Validating: 0it [00:00, ?it/s]\u001b[A\n",
      "Epoch 46: 100%|██████████| 83/83 [00:00<00:00, 328.07it/s, loss=0.965, v_num=97]\n",
      "Epoch 47:  65%|██████▌   | 54/83 [00:00<00:00, 243.24it/s, loss=0.945, v_num=97]\n",
      "Validating: 0it [00:00, ?it/s]\u001b[A\n",
      "Epoch 47: 100%|██████████| 83/83 [00:00<00:00, 320.46it/s, loss=0.945, v_num=97]\n",
      "Epoch 48:  65%|██████▌   | 54/83 [00:00<00:00, 250.00it/s, loss=0.922, v_num=97]\n",
      "Validating: 0it [00:00, ?it/s]\u001b[A\n",
      "Epoch 48: 100%|██████████| 83/83 [00:00<00:00, 325.49it/s, loss=0.922, v_num=97]\n",
      "Epoch 49:  65%|██████▌   | 54/83 [00:00<00:00, 247.71it/s, loss=0.965, v_num=97]\n",
      "Validating: 0it [00:00, ?it/s]\u001b[A\n",
      "Epoch 49: 100%|██████████| 83/83 [00:00<00:00, 318.01it/s, loss=0.965, v_num=97]\n",
      "Epoch 50:  65%|██████▌   | 54/83 [00:00<00:00, 244.34it/s, loss=0.936, v_num=97]\n",
      "Validating: 0it [00:00, ?it/s]\u001b[A\n",
      "Epoch 50: 100%|██████████| 83/83 [00:00<00:00, 321.71it/s, loss=0.936, v_num=97]\n",
      "Epoch 51:  65%|██████▌   | 54/83 [00:00<00:00, 245.46it/s, loss=0.855, v_num=97]\n",
      "Validating: 0it [00:00, ?it/s]\u001b[A\n",
      "Epoch 51: 100%|██████████| 83/83 [00:00<00:00, 325.49it/s, loss=0.855, v_num=97]\n",
      "Epoch 52:  65%|██████▌   | 54/83 [00:00<00:00, 241.07it/s, loss=0.848, v_num=97]\n",
      "Validating: 0it [00:00, ?it/s]\u001b[A\n",
      "Epoch 52: 100%|██████████| 83/83 [00:00<00:00, 310.86it/s, loss=0.848, v_num=97]\n",
      "Epoch 53:  65%|██████▌   | 54/83 [00:00<00:00, 204.54it/s, loss=0.832, v_num=97]\n",
      "Validating: 0it [00:00, ?it/s]\u001b[A\n",
      "Epoch 53: 100%|██████████| 83/83 [00:00<00:00, 269.48it/s, loss=0.832, v_num=97]\n",
      "Epoch 54:  65%|██████▌   | 54/83 [00:00<00:00, 245.46it/s, loss=0.817, v_num=97]\n",
      "Validating: 0it [00:00, ?it/s]\u001b[A\n",
      "Epoch 54: 100%|██████████| 83/83 [00:00<00:00, 319.23it/s, loss=0.817, v_num=97]\n",
      "Epoch 55:  65%|██████▌   | 54/83 [00:00<00:00, 236.84it/s, loss=0.805, v_num=97]\n",
      "Validating: 0it [00:00, ?it/s]\u001b[A\n",
      "Epoch 55: 100%|██████████| 83/83 [00:00<00:00, 305.15it/s, loss=0.805, v_num=97]\n",
      "Epoch 56:  65%|██████▌   | 54/83 [00:00<00:00, 238.94it/s, loss=0.792, v_num=97]\n",
      "Validating: 0it [00:00, ?it/s]\u001b[A\n",
      "Epoch 56: 100%|██████████| 83/83 [00:00<00:00, 313.21it/s, loss=0.792, v_num=97]\n",
      "Epoch 57:  65%|██████▌   | 54/83 [00:00<00:00, 246.58it/s, loss=0.776, v_num=97]\n",
      "Validating: 0it [00:00, ?it/s]\u001b[A\n",
      "Epoch 57: 100%|██████████| 83/83 [00:00<00:00, 320.46it/s, loss=0.776, v_num=97]\n",
      "Epoch 58:  65%|██████▌   | 54/83 [00:00<00:00, 240.52it/s, loss=0.781, v_num=97]\n",
      "Validating: 0it [00:00, ?it/s]\u001b[A\n",
      "Epoch 58: 100%|██████████| 83/83 [00:00<00:00, 313.78it/s, loss=0.781, v_num=97]\n",
      "Epoch 59:  65%|██████▌   | 54/83 [00:00<00:00, 240.00it/s, loss=0.863, v_num=97]\n",
      "Validating: 0it [00:00, ?it/s]\u001b[A\n",
      "Epoch 59: 100%|██████████| 83/83 [00:00<00:00, 313.21it/s, loss=0.863, v_num=97]\n",
      "Epoch 60:  65%|██████▌   | 54/83 [00:00<00:00, 238.94it/s, loss=0.777, v_num=97]\n",
      "Validating: 0it [00:00, ?it/s]\u001b[A\n",
      "Epoch 60: 100%|██████████| 83/83 [00:00<00:00, 310.86it/s, loss=0.777, v_num=97]\n",
      "Epoch 61:  65%|██████▌   | 54/83 [00:00<00:00, 237.03it/s, loss=0.717, v_num=97]\n",
      "Validating: 0it [00:00, ?it/s]\u001b[A\n",
      "Epoch 61: 100%|██████████| 83/83 [00:00<00:00, 308.76it/s, loss=0.717, v_num=97]\n",
      "Epoch 62:  65%|██████▌   | 54/83 [00:00<00:00, 240.99it/s, loss=0.709, v_num=97]\n",
      "Validating: 0it [00:00, ?it/s]\u001b[A\n",
      "Epoch 62: 100%|██████████| 83/83 [00:00<00:00, 316.70it/s, loss=0.709, v_num=97]\n",
      "Epoch 63:  65%|██████▌   | 54/83 [00:00<00:00, 217.74it/s, loss=0.7, v_num=97]  \n",
      "Validating: 0it [00:00, ?it/s]\u001b[A\n",
      "Epoch 63: 100%|██████████| 83/83 [00:00<00:00, 286.21it/s, loss=0.7, v_num=97]\n",
      "Epoch 64:  65%|██████▌   | 54/83 [00:00<00:00, 211.73it/s, loss=0.69, v_num=97] \n",
      "Validating: 0it [00:00, ?it/s]\u001b[A\n",
      "Epoch 64: 100%|██████████| 83/83 [00:00<00:00, 279.40it/s, loss=0.69, v_num=97]\n",
      "Epoch 65:  65%|██████▌   | 54/83 [00:00<00:00, 236.46it/s, loss=0.679, v_num=97]\n",
      "Validating: 0it [00:00, ?it/s]\u001b[A\n",
      "Epoch 65: 100%|██████████| 83/83 [00:00<00:00, 306.37it/s, loss=0.679, v_num=97]\n",
      "Epoch 66:  65%|██████▌   | 54/83 [00:00<00:00, 232.76it/s, loss=0.67, v_num=97] \n",
      "Validating: 0it [00:00, ?it/s]\u001b[A\n",
      "Epoch 66: 100%|██████████| 83/83 [00:00<00:00, 300.73it/s, loss=0.67, v_num=97]\n",
      "Epoch 67:  65%|██████▌   | 54/83 [00:00<00:00, 237.88it/s, loss=0.659, v_num=97]\n",
      "Validating: 0it [00:00, ?it/s]\u001b[A\n",
      "Epoch 67: 100%|██████████| 83/83 [00:00<00:00, 312.03it/s, loss=0.659, v_num=97]\n",
      "Epoch 68:  65%|██████▌   | 54/83 [00:00<00:00, 234.78it/s, loss=0.651, v_num=97]\n",
      "Validating: 0it [00:00, ?it/s]\u001b[A\n",
      "Epoch 68: 100%|██████████| 83/83 [00:00<00:00, 306.27it/s, loss=0.651, v_num=97]\n",
      "Epoch 69:  65%|██████▌   | 54/83 [00:00<00:00, 236.84it/s, loss=0.746, v_num=97]\n",
      "Validating: 0it [00:00, ?it/s]\u001b[A\n",
      "Epoch 69: 100%|██████████| 83/83 [00:00<00:00, 309.70it/s, loss=0.746, v_num=97]\n",
      "Epoch 70:  65%|██████▌   | 54/83 [00:00<00:00, 237.88it/s, loss=0.661, v_num=97]\n",
      "Validating: 0it [00:00, ?it/s]\u001b[A\n",
      "Epoch 70: 100%|██████████| 83/83 [00:00<00:00, 304.03it/s, loss=0.661, v_num=97]\n",
      "Epoch 71:  65%|██████▌   | 54/83 [00:00<00:00, 230.60it/s, loss=0.615, v_num=97]\n",
      "Validating: 0it [00:00, ?it/s]\u001b[A\n",
      "Epoch 71: 100%|██████████| 83/83 [00:00<00:00, 295.19it/s, loss=0.615, v_num=97]\n",
      "Epoch 72:  65%|██████▌   | 54/83 [00:00<00:00, 224.07it/s, loss=0.607, v_num=97]\n",
      "Validating: 0it [00:00, ?it/s]\u001b[A\n",
      "Epoch 72: 100%|██████████| 83/83 [00:00<00:00, 294.33it/s, loss=0.607, v_num=97]\n",
      "Epoch 73:  65%|██████▌   | 54/83 [00:00<00:00, 239.16it/s, loss=0.602, v_num=97]\n",
      "Validating: 0it [00:00, ?it/s]\u001b[A\n",
      "Epoch 73: 100%|██████████| 83/83 [00:00<00:00, 309.95it/s, loss=0.602, v_num=97]\n",
      "Epoch 74:  65%|██████▌   | 54/83 [00:00<00:00, 234.88it/s, loss=0.593, v_num=97]\n",
      "Validating: 0it [00:00, ?it/s]\u001b[A\n",
      "Epoch 74: 100%|██████████| 83/83 [00:00<00:00, 308.65it/s, loss=0.593, v_num=97]\n",
      "Epoch 75:  65%|██████▌   | 54/83 [00:00<00:00, 198.53it/s, loss=0.585, v_num=97]\n",
      "Validating: 0it [00:00, ?it/s]\u001b[A\n",
      "Epoch 75: 100%|██████████| 83/83 [00:00<00:00, 266.88it/s, loss=0.585, v_num=97]\n",
      "Epoch 76:  65%|██████▌   | 54/83 [00:00<00:00, 231.76it/s, loss=0.641, v_num=97]\n",
      "Validating: 0it [00:00, ?it/s]\u001b[A\n",
      "Epoch 76: 100%|██████████| 83/83 [00:00<00:00, 302.92it/s, loss=0.641, v_num=97]\n",
      "Epoch 77:  65%|██████▌   | 54/83 [00:00<00:00, 234.78it/s, loss=0.597, v_num=97]\n",
      "Validating: 0it [00:00, ?it/s]\u001b[A\n",
      "Epoch 77: 100%|██████████| 83/83 [00:00<00:00, 302.92it/s, loss=0.597, v_num=97]\n",
      "Epoch 78:  65%|██████▌   | 54/83 [00:00<00:00, 236.84it/s, loss=0.562, v_num=97]\n",
      "Validating: 0it [00:00, ?it/s]\u001b[A\n",
      "Epoch 78: 100%|██████████| 83/83 [00:00<00:00, 309.70it/s, loss=0.562, v_num=97]\n",
      "Epoch 79:  65%|██████▌   | 54/83 [00:00<00:00, 225.00it/s, loss=0.553, v_num=97]\n",
      "Validating: 0it [00:00, ?it/s]\u001b[A\n",
      "Epoch 79: 100%|██████████| 83/83 [00:00<00:00, 292.22it/s, loss=0.553, v_num=97]\n",
      "Epoch 80:  65%|██████▌   | 54/83 [00:00<00:00, 227.36it/s, loss=0.547, v_num=97]\n",
      "Validating: 0it [00:00, ?it/s]\u001b[A\n",
      "Epoch 80: 100%|██████████| 83/83 [00:00<00:00, 295.89it/s, loss=0.547, v_num=97]\n",
      "Epoch 81:  65%|██████▌   | 54/83 [00:00<00:00, 231.25it/s, loss=0.541, v_num=97]\n",
      "Validating: 0it [00:00, ?it/s]\u001b[A\n",
      "Epoch 81: 100%|██████████| 83/83 [00:00<00:00, 302.36it/s, loss=0.541, v_num=97]\n",
      "Epoch 82:  65%|██████▌   | 54/83 [00:00<00:00, 227.85it/s, loss=0.536, v_num=97]\n",
      "Validating: 0it [00:00, ?it/s]\u001b[A\n",
      "Epoch 82: 100%|██████████| 83/83 [00:00<00:00, 299.64it/s, loss=0.536, v_num=97]\n",
      "Epoch 83:  65%|██████▌   | 54/83 [00:00<00:00, 230.77it/s, loss=0.53, v_num=97] \n",
      "Validating: 0it [00:00, ?it/s]\u001b[A\n"
     ]
    },
    {
     "name": "stdout",
     "output_type": "stream",
     "text": [
      "Epoch 83: 100%|██████████| 83/83 [00:00<00:00, 300.72it/s, loss=0.53, v_num=97]\n",
      "Epoch 84:  65%|██████▌   | 54/83 [00:00<00:00, 232.75it/s, loss=0.524, v_num=97]\n",
      "Validating: 0it [00:00, ?it/s]\u001b[A\n",
      "Epoch 84: 100%|██████████| 83/83 [00:00<00:00, 302.91it/s, loss=0.524, v_num=97]\n",
      "Epoch 85:  65%|██████▌   | 54/83 [00:00<00:00, 226.89it/s, loss=0.53, v_num=97] \n",
      "Validating: 0it [00:00, ?it/s]\u001b[A\n",
      "Epoch 85: 100%|██████████| 83/83 [00:00<00:00, 295.38it/s, loss=0.53, v_num=97]\n",
      "Epoch 86:  65%|██████▌   | 54/83 [00:00<00:00, 227.85it/s, loss=0.521, v_num=97]\n",
      "Validating: 0it [00:00, ?it/s]\u001b[A\n",
      "Epoch 86: 100%|██████████| 83/83 [00:00<00:00, 297.49it/s, loss=0.521, v_num=97]\n",
      "Epoch 87:  65%|██████▌   | 54/83 [00:00<00:00, 225.46it/s, loss=0.506, v_num=97]\n",
      "Validating: 0it [00:00, ?it/s]\u001b[A\n",
      "Epoch 87: 100%|██████████| 83/83 [00:00<00:00, 292.76it/s, loss=0.506, v_num=97]\n",
      "Epoch 88:  65%|██████▌   | 54/83 [00:00<00:00, 233.77it/s, loss=0.501, v_num=97]\n",
      "Validating: 0it [00:00, ?it/s]\u001b[A\n",
      "Epoch 88: 100%|██████████| 83/83 [00:00<00:00, 306.27it/s, loss=0.501, v_num=97]\n",
      "Epoch 89:  65%|██████▌   | 54/83 [00:00<00:00, 225.94it/s, loss=0.496, v_num=97]\n",
      "Validating: 0it [00:00, ?it/s]\u001b[A\n",
      "Epoch 89: 100%|██████████| 83/83 [00:00<00:00, 293.29it/s, loss=0.496, v_num=97]\n",
      "Epoch 90:  65%|██████▌   | 54/83 [00:00<00:00, 223.14it/s, loss=0.592, v_num=97]\n",
      "Validating: 0it [00:00, ?it/s]\u001b[A\n",
      "Epoch 90: 100%|██████████| 83/83 [00:00<00:00, 291.23it/s, loss=0.592, v_num=97]\n",
      "Epoch 91:  65%|██████▌   | 54/83 [00:00<00:00, 225.94it/s, loss=0.49, v_num=97] \n",
      "Validating: 0it [00:00, ?it/s]\u001b[A\n",
      "Epoch 91: 100%|██████████| 83/83 [00:00<00:00, 294.33it/s, loss=0.49, v_num=97]\n",
      "Epoch 92:  65%|██████▌   | 54/83 [00:00<00:00, 196.00it/s, loss=0.468, v_num=97]\n",
      "Validating: 0it [00:00, ?it/s]\u001b[A\n",
      "Epoch 92: 100%|██████████| 83/83 [00:00<00:00, 260.58it/s, loss=0.468, v_num=97]\n",
      "Epoch 93:  65%|██████▌   | 54/83 [00:00<00:00, 226.89it/s, loss=0.476, v_num=97]\n",
      "Validating: 0it [00:00, ?it/s]\u001b[A\n",
      "Epoch 93: 100%|██████████| 83/83 [00:00<00:00, 298.56it/s, loss=0.476, v_num=97]\n",
      "Epoch 94:  65%|██████▌   | 54/83 [00:00<00:00, 229.79it/s, loss=0.473, v_num=97]\n",
      "Validating: 0it [00:00, ?it/s]\u001b[A\n",
      "Epoch 94: 100%|██████████| 83/83 [00:00<00:00, 295.37it/s, loss=0.473, v_num=97]\n",
      "Epoch 95:  65%|██████▌   | 54/83 [00:00<00:00, 234.78it/s, loss=0.471, v_num=97]\n",
      "Validating: 0it [00:00, ?it/s]\u001b[A\n",
      "Epoch 95: 100%|██████████| 83/83 [00:00<00:00, 306.27it/s, loss=0.471, v_num=97]\n",
      "Epoch 96:  65%|██████▌   | 54/83 [00:00<00:00, 226.86it/s, loss=0.461, v_num=97]\n",
      "Validating: 0it [00:00, ?it/s]\u001b[A\n",
      "Epoch 96: 100%|██████████| 83/83 [00:00<00:00, 296.40it/s, loss=0.461, v_num=97]\n",
      "Epoch 97:  65%|██████▌   | 54/83 [00:00<00:00, 228.32it/s, loss=0.463, v_num=97]\n",
      "Validating: 0it [00:00, ?it/s]\u001b[A\n",
      "Epoch 97: 100%|██████████| 83/83 [00:00<00:00, 298.02it/s, loss=0.463, v_num=97]\n",
      "Epoch 98:  65%|██████▌   | 54/83 [00:00<00:00, 229.76it/s, loss=0.458, v_num=97]\n",
      "Validating: 0it [00:00, ?it/s]\u001b[A\n",
      "Epoch 98: 100%|██████████| 83/83 [00:00<00:00, 298.56it/s, loss=0.458, v_num=97]\n",
      "Epoch 99:  65%|██████▌   | 54/83 [00:00<00:00, 231.25it/s, loss=0.452, v_num=97]\n",
      "Validating: 0it [00:00, ?it/s]\u001b[A\n",
      "Epoch 99: 100%|██████████| 83/83 [00:00<00:00, 301.26it/s, loss=0.452, v_num=97]\n",
      "Epoch 99: 100%|██████████| 83/83 [00:00<00:00, 295.89it/s, loss=0.452, v_num=97]\n"
     ]
    }
   ],
   "source": [
    "model = Model(MLP(**config[\"model_params\"]),**config)\n",
    "\n",
    "trainer = pl.Trainer(\n",
    "            max_epochs=config['max_epochs'], \n",
    "            gpus=0,\n",
    "            logger=pl.loggers.TensorBoardLogger(save_dir=cfg.TENSORBORD_DIR),\n",
    "            callbacks=[TQDMProgressBar(1)],\n",
    "            weights_summary=None, # Can be None, top or full\n",
    "            num_sanity_val_steps=10,\n",
    "        )\n",
    "trainer.fit(\n",
    "    model, \n",
    "    train_dataloaders=train_loader,\n",
    "    val_dataloaders=val_loader\n",
    ");"
   ]
  },
  {
   "cell_type": "markdown",
   "metadata": {},
   "source": [
    "### Validate"
   ]
  },
  {
   "cell_type": "code",
   "execution_count": 249,
   "metadata": {},
   "outputs": [
    {
     "name": "stdout",
     "output_type": "stream",
     "text": [
      "Testing: 0it [00:00, ?it/s]--------------------------------------------------------------------------------\n",
      "DATALOADER:0 TEST RESULTS\n",
      "{'loss_Test': 0.32190224528312683}\n",
      "--------------------------------------------------------------------------------\n",
      "Testing: 100%|██████████| 43/43 [00:00<00:00, 704.90it/s]\n"
     ]
    },
    {
     "data": {
      "text/plain": [
       "[{'loss_Test': 0.32190224528312683}]"
      ]
     },
     "execution_count": 249,
     "metadata": {},
     "output_type": "execute_result"
    }
   ],
   "source": [
    "trainer.test(model, test_dataloaders=test_loader)"
   ]
  },
  {
   "cell_type": "code",
   "execution_count": 250,
   "metadata": {},
   "outputs": [
    {
     "name": "stderr",
     "output_type": "stream",
     "text": [
      "C:\\Users\\erikl\\AppData\\Local\\Temp/ipykernel_11508/975203574.py:1: UserWarning: Implicit dimension choice for softmax has been deprecated. Change the call to include dim=X as an argument.\n",
      "  predictions = torch.argmax(torch.nn.functional.softmax(model(torch.from_numpy(x_train).float())),dim=1)\n"
     ]
    },
    {
     "data": {
      "image/png": "[encoded data removed]",
      "text/plain": [
       "<Figure size 576x432 with 2 Axes>"
      ]
     },
     "metadata": {
      "needs_background": "light"
     },
     "output_type": "display_data"
    }
   ],
   "source": [
    "predictions = torch.argmax(torch.nn.functional.softmax(model(torch.from_numpy(x_train).float())),dim=1)\n",
    "target = torch.argmax(torch.from_numpy(y_train), axis=1)\n",
    "\n",
    "confuTst = torchmetrics.functional.confusion_matrix(predictions.detach().cpu(),target.int().detach().cpu(), cfg.AE_NUM_CLASSES)\n",
    "\n",
    "plot.confusion_matrix(cm = confuTst.numpy(), \n",
    "                      normalize = False,\n",
    "                      target_names = cfg.AE_CLASSES,\n",
    "                      title = \"Confusion Matrix: Test data\")"
   ]
  },
  {
   "cell_type": "markdown",
   "metadata": {},
   "source": [
    "## Task 2\n",
    "For this last exercise the task is to train a binary classifier for the spiral problem. The aim is to get *zero* classification error for the training data (there is no test data) with as small as possible model, in terms of the number of trainable weights. Also plot the boundary to see if it resembles a spriral. To pass this question you should at least try!\n",
    "\n",
    "**TODO:** Train a classifier for the spiral problem with the aim of zero classification error with as small as possible model. \n",
    "\n",
    "**TODO:** Motivate the choice of parameters and implementation."
   ]
  },
  {
   "cell_type": "code",
   "execution_count": 88,
   "metadata": {},
   "outputs": [],
   "source": [
    "# Load dataset\n",
    "def numpy2Dataloader(x,y, batch_size=50, num_workers=0,**kwargs):\n",
    "    return DataLoader(\n",
    "        TensorDataset(\n",
    "            torch.from_numpy(x).float(), \n",
    "            torch.from_numpy(y).float()\n",
    "        ),\n",
    "        batch_size=batch_size,\n",
    "        num_workers=num_workers,\n",
    "        **kwargs\n",
    "    )\n",
    "x_train, y_train = MLPData.spiral(cfg.spiral_path)\n",
    "y_train = y_train.reshape(-1, 1) # Was shape (194,), now it's (194, 1)\n",
    "train_loader = numpy2Dataloader(x_train,y_train)"
   ]
  },
  {
   "cell_type": "code",
   "execution_count": 20,
   "metadata": {},
   "outputs": [
    {
     "data": {
      "text/plain": [
       "(194, 1)"
      ]
     },
     "execution_count": 20,
     "metadata": {},
     "output_type": "execute_result"
    }
   ],
   "source": [
    "y_train.shape"
   ]
  },
  {
   "cell_type": "code",
   "execution_count": 21,
   "metadata": {},
   "outputs": [
    {
     "data": {
      "text/plain": [
       "(194, 2)"
      ]
     },
     "execution_count": 21,
     "metadata": {},
     "output_type": "execute_result"
    }
   ],
   "source": [
    "x_train.shape"
   ]
  },
  {
   "cell_type": "markdown",
   "metadata": {},
   "source": [
    "## Implement the TODO's"
   ]
  },
  {
   "cell_type": "markdown",
   "metadata": {},
   "source": [
    "### Model"
   ]
  },
  {
   "cell_type": "code",
   "execution_count": 64,
   "metadata": {},
   "outputs": [],
   "source": [
    "class MLP(torch.nn.Module):\n",
    "    def __init__(self, \n",
    "                inp_dim=None,         \n",
    "                hidden_nodes=1, # number of nodes in hidden layer\n",
    "                num_layers=1,\n",
    "                num_out=None,\n",
    "                **kwargs\n",
    "            ):\n",
    "        super(MLP, self).__init__()\n",
    "        layers = []\n",
    "        # Input\n",
    "        layers.append(torch.nn.Linear(inp_dim, hidden_nodes))\n",
    "        layers.append(torch.nn.ReLU())\n",
    "        # Hidden\n",
    "        for i in range(num_layers):\n",
    "            layers.append(torch.nn.Linear(hidden_nodes, hidden_nodes))\n",
    "            layers.append(torch.nn.ReLU())\n",
    "        # Output\n",
    "        layers.append(torch.nn.Linear(hidden_nodes, num_out))\n",
    "        layers.append(torch.nn.Sigmoid())\n",
    "        self.sequential = torch.nn.Sequential(*layers) # Unpacking all layers into a Sequential container\n",
    "    def forward(self, x):\n",
    "        return self.sequential(x)"
   ]
  },
  {
   "cell_type": "markdown",
   "metadata": {},
   "source": [
    "### Config"
   ]
  },
  {
   "cell_type": "code",
   "execution_count": 267,
   "metadata": {},
   "outputs": [],
   "source": [
    "config = {\n",
    "    'max_epochs':1000,\n",
    "    'model_params':{\n",
    "        'inp_dim':x_train.shape[1],         \n",
    "        'hidden_nodes':33,   # activation functions for the hidden layer,\n",
    "        'hidden_layers':0,\n",
    "        'num_out':1 # if binary --> 1 |  regression--> num inputs | multi-class--> num of classes\n",
    "    },\n",
    "    'criterion':torch.nn.BCELoss(), # error function\n",
    "    'optimizer':{\n",
    "        \"type\":torch.optim.Adam,\n",
    "        \"args\":{\n",
    "            \"lr\":0.011,\n",
    "        }\n",
    "    }\n",
    "}"
   ]
  },
  {
   "cell_type": "markdown",
   "metadata": {},
   "source": [
    "### Run Model"
   ]
  },
  {
   "cell_type": "code",
   "execution_count": 272,
   "metadata": {},
   "outputs": [
    {
     "name": "stderr",
     "output_type": "stream",
     "text": [
      "GPU available: True, used: False\n",
      "TPU available: False, using: 0 TPU cores\n",
      "IPU available: False, using: 0 IPUs\n"
     ]
    },
    {
     "name": "stdout",
     "output_type": "stream",
     "text": [
      "Epoch 999: 100%|██████████| 4/4 [00:00<00:00, 285.72it/s, loss=0.00364, v_num=172]\n"
     ]
    }
   ],
   "source": [
    "model = Model(MLP(**config[\"model_params\"]),**config)\n",
    "\n",
    "trainer = pl.Trainer(\n",
    "            max_epochs=config['max_epochs'], \n",
    "            gpus=0,\n",
    "            logger=pl.loggers.TensorBoardLogger(save_dir=cfg.TENSORBORD_DIR),\n",
    "            callbacks=[TQDMProgressBar(1)],\n",
    "            weights_summary=None, # Can be None, top or full\n",
    "            num_sanity_val_steps=10,   \n",
    "        )\n",
    "trainer.fit(\n",
    "    model, \n",
    "    train_dataloaders=train_loader\n",
    ");"
   ]
  },
  {
   "cell_type": "markdown",
   "metadata": {},
   "source": [
    "### Evaluation"
   ]
  },
  {
   "cell_type": "code",
   "execution_count": 273,
   "metadata": {},
   "outputs": [
    {
     "name": "stdout",
     "output_type": "stream",
     "text": [
      "\n",
      " ########## STATISTICS for Training Data ########## \n",
      "\n",
      "Accuracy   1.0\n",
      "Sensitivity   1.0\n",
      "Specificity   1.0\n",
      "\n",
      " ##################################################\n"
     ]
    }
   ],
   "source": [
    "plot.stats_class(x_train, y_train, 'Training', model)"
   ]
  },
  {
   "cell_type": "code",
   "execution_count": 274,
   "metadata": {},
   "outputs": [
    {
     "data": {
      "image/png": "[encoded data removed]",
      "text/plain": [
       "<Figure size 432x288 with 1 Axes>"
      ]
     },
     "metadata": {
      "needs_background": "light"
     },
     "output_type": "display_data"
    }
   ],
   "source": [
    "plot.decision_bondary(trainer.lightning_module, x_train, y_train.reshape(-1, ))"
   ]
  },
  {
   "cell_type": "markdown",
   "metadata": {},
   "source": [
    "## Example of evaluation\n",
    "Run the testset and evaluate the performance of the model."
   ]
  },
  {
   "cell_type": "code",
   "execution_count": 141,
   "metadata": {},
   "outputs": [],
   "source": [
    "# Move to correct device!\n",
    "#trainer.test(model, test_dataloaders=test_loader)"
   ]
  },
  {
   "cell_type": "code",
   "execution_count": 142,
   "metadata": {},
   "outputs": [],
   "source": [
    "#trainer.logged_metrics"
   ]
  },
  {
   "cell_type": "markdown",
   "metadata": {},
   "source": [
    "### Confusion matrix "
   ]
  },
  {
   "cell_type": "code",
   "execution_count": 143,
   "metadata": {},
   "outputs": [],
   "source": [
    "# predictions = torch.argmax(torch.nn.functional.softmax(model(torch.from_numpy(x_train).float())),dim=1)\n",
    "# target = torch.argmax(torch.from_numpy(y_train), axis=1)\n",
    "\n",
    "# confuTst = torchmetrics.functional.confusion_matrix(predictions.detach().cpu(),target.int().detach().cpu(), cfg.AE_NUM_CLASSES)\n",
    "\n",
    "# plot.confusion_matrix(cm = confuTst.numpy(), \n",
    "#                       normalize = False,\n",
    "#                       target_names = cfg.AE_CLASSES,\n",
    "#                       title = \"Confusion Matrix: Test data\")"
   ]
  },
  {
   "cell_type": "code",
   "execution_count": null,
   "metadata": {},
   "outputs": [],
   "source": []
  }
 ],
 "metadata": {
  "interpreter": {
   "hash": "4ccf88e37874d44b4dfe33c31e1bb4a10ca4e414e0a68744582aebd290f71bcd"
  },
  "kernelspec": {
   "display_name": "Python 3 (ipykernel)",
   "language": "python",
   "name": "python3"
  },
  "language_info": {
   "codemirror_mode": {
    "name": "ipython",
    "version": 3
   },
   "file_extension": ".py",
   "mimetype": "text/x-python",
   "name": "python",
   "nbconvert_exporter": "python",
   "pygments_lexer": "ipython3",
   "version": "3.9.7"
  }
 },
 "nbformat": 4,
 "nbformat_minor": 4
}
