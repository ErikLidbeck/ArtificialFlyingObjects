{
 "cells": [
  {
   "cell_type": "markdown",
   "metadata": {},
   "source": [
    "<h1 style=\"font-size:40px;\"><center>Exercise III:<br> Image Classification using CNNs</center></h1>"
   ]
  },
  {
   "cell_type": "markdown",
   "metadata": {},
   "source": [
    "Welcome to the *fourth* lab for Deep Learning!\n",
    "\n",
    "In this lab an CNN network to classify rgb images. Image classification refers to classify classes from images. This labs *dataset* consist of multiple images where each image have a target label for classification.\n",
    "\n",
    "All **tasks** include **TODO's** thare are expected to be done before the deadline. The highlighted **Question's** should be answered in the report. Keep the answers separated so it is easy to read for the grading. Some sections include asserts or an expected result to give a and expected results are given. Some sections does not contain any **TODO's** but is good to understand them. \n",
    "\n",
    "For the **report** we have prepared an *Report.ipynb* notebook. The report should act as a summary of your findings and motivate your choice of approach. A better motivation show your understanding of the lab. Dont forget to include all **parts** in the report!\n",
    "\n",
    "This lab logs metrics to **Tensorboard**, for instructions to install check the introduction pdf.\n",
    "\n",
    "Good luck!\n",
    "\n",
    "---"
   ]
  },
  {
   "cell_type": "markdown",
   "metadata": {},
   "source": [
    "# Import packages"
   ]
  },
  {
   "cell_type": "code",
   "execution_count": 1,
   "metadata": {},
   "outputs": [],
   "source": [
    "%load_ext autoreload\n",
    "%autoreload 2\n",
    "# Hacky solution to acces the global utils package\n",
    "import sys,os\n",
    "sys.path.append(os.path.dirname(os.path.realpath('..')))"
   ]
  },
  {
   "cell_type": "code",
   "execution_count": 4,
   "metadata": {},
   "outputs": [],
   "source": [
    "# Torch packages\n",
    "import torch\n",
    "import torch.nn as nn\n",
    "import torch.nn.functional as F\n",
    "\n",
    "# local modules\n",
    "from torch.utils.data import DataLoader\n",
    "from DL_labs.utils.dataset import ClassificationDataset\n",
    "from DL_labs.utils import dataloader\n",
    "from DL_labs.utils.model import Model\n",
    "from config import flying_objects_config\n",
    "from collections import OrderedDict\n",
    "from DL_labs.utils import plot\n",
    "import pprint\n",
    "import torchmetrics\n",
    "import pytorch_lightning as pl\n",
    "import torchvision\n",
    "\n",
    "from DL_labs.utils.progressbar import LitProgressBar"
   ]
  },
  {
   "cell_type": "markdown",
   "metadata": {},
   "source": [
    "## Load config"
   ]
  },
  {
   "cell_type": "code",
   "execution_count": 5,
   "metadata": {},
   "outputs": [
    {
     "name": "stdout",
     "output_type": "stream",
     "text": [
      "{'BATCH_SIZE': 32,\n",
      " 'CLASSES': ['square', 'triangle', 'circular', 'background'],\n",
      " 'GPU': -1,\n",
      " 'IMAGE_CHANNEL': 3,\n",
      " 'IMAGE_HEIGHT': 128,\n",
      " 'IMAGE_WIDTH': 128,\n",
      " 'NUM_CLASSES': 4,\n",
      " 'NUM_WORKERS': 4,\n",
      " 'SAVE_EVERY': 1,\n",
      " 'TENSORBORD_DIR': 'logs/',\n",
      " 'fineGrained': False,\n",
      " 'testing_img_dir': '../data/FlyingObjectDataset_10K/testing',\n",
      " 'training_img_dir': '../data/FlyingObjectDataset_10K/training',\n",
      " 'validation_img_dir': '../data/FlyingObjectDataset_10K/validation'}\n"
     ]
    }
   ],
   "source": [
    "cfg = flying_objects_config(False)\n",
    "pprint.pprint(cfg)"
   ]
  },
  {
   "cell_type": "markdown",
   "metadata": {},
   "source": [
    "# Example Task\n",
    "First we present an example task to get an idea of the implementation and how to structure the code."
   ]
  },
  {
   "cell_type": "markdown",
   "metadata": {},
   "source": [
    "## Example data\n",
    "First load the dataloaders for three datasets; train, validation and test. Feel free to test different augmentations, more can be found at *https://pytorch.org/vision/stable/transforms.html*\n",
    "\n",
    "Note that ToTensor and Rezise are required to reshape and transform the images correct. We do not want to apply augmentation to the test_transform that are applied on the validation and test dataloader."
   ]
  },
  {
   "cell_type": "code",
   "execution_count": 6,
   "metadata": {},
   "outputs": [],
   "source": [
    "## Augmentation\n",
    "\n",
    "train_transform = torchvision.transforms.Compose([\n",
    "    torchvision.transforms.ToTensor(),\n",
    "    torchvision.transforms.Resize((cfg.IMAGE_HEIGHT, cfg.IMAGE_WIDTH)),\n",
    "    torchvision.transforms.RandomHorizontalFlip(p=0.5),\n",
    "])\n",
    "test_transform = torchvision.transforms.Compose([\n",
    "    torchvision.transforms.ToTensor(),\n",
    "    torchvision.transforms.Resize((cfg.IMAGE_HEIGHT, cfg.IMAGE_WIDTH)),\n",
    "])"
   ]
  },
  {
   "cell_type": "code",
   "execution_count": 7,
   "metadata": {},
   "outputs": [
    {
     "name": "stdout",
     "output_type": "stream",
     "text": [
      "Data batch generators are created!\n"
     ]
    }
   ],
   "source": [
    "train_dataloader = DataLoader(ClassificationDataset(cfg.training_img_dir, cfg.CLASSES, img_shape=(cfg.IMAGE_HEIGHT, cfg.IMAGE_WIDTH),transform=train_transform),\n",
    "                        batch_size=cfg.BATCH_SIZE,\n",
    "                        shuffle=True,\n",
    "                        num_workers=cfg.NUM_WORKERS)\n",
    "valid_dataloader = DataLoader(ClassificationDataset(cfg.validation_img_dir, cfg.CLASSES, img_shape=(cfg.IMAGE_HEIGHT, cfg.IMAGE_WIDTH),transform=test_transform),\n",
    "                        batch_size=cfg.BATCH_SIZE,\n",
    "                        shuffle=False,\n",
    "                        num_workers=cfg.NUM_WORKERS)\n",
    "\n",
    "test_dataloader = DataLoader(ClassificationDataset(cfg.testing_img_dir, cfg.CLASSES, img_shape=(cfg.IMAGE_HEIGHT, cfg.IMAGE_WIDTH),transform=test_transform),\n",
    "                        batch_size=cfg.BATCH_SIZE,\n",
    "                        shuffle=False,\n",
    "                        num_workers=cfg.NUM_WORKERS)\n",
    "\n",
    "print(\"Data batch generators are created!\")"
   ]
  },
  {
   "cell_type": "markdown",
   "metadata": {},
   "source": [
    "## Visualise data\n",
    "To get an idea of the dataset we visualise the data. "
   ]
  },
  {
   "cell_type": "code",
   "execution_count": 17,
   "metadata": {},
   "outputs": [
    {
     "name": "stdout",
     "output_type": "stream",
     "text": [
      "x (32, 3, 128, 128) torch.float32 0.0 1.0\n",
      "y (32,) torch.int64 0 2\n"
     ]
    },
    {
     "data": {
      "image/png": "[encoded data removed]",
      "text/plain": [
       "<Figure size 360x201.6 with 10 Axes>"
      ]
     },
     "metadata": {},
     "output_type": "display_data"
    }
   ],
   "source": [
    "t_x, t_y = next(iter(train_dataloader))\n",
    "print(f\"x {tuple(t_x.shape)} {t_x.dtype} {t_x.min()} {t_x.max()}\")\n",
    "print(f\"y {tuple(t_y.shape)} {t_y.dtype} {t_y.min()} {t_y.max()}\")\n",
    "plot.Classification.data(t_x, t_y, nimages=10,nrows=2)"
   ]
  },
  {
   "cell_type": "code",
   "execution_count": 11,
   "metadata": {},
   "outputs": [],
   "source": [
    "if False: # Set to true to visualise statistics of the data\n",
    "    plot.show_statistics(cfg.training_img_dir, fineGrained=cfg.fineGrained, title=\" Training Data Statistics \")\n",
    "    plot.show_statistics(cfg.validation_img_dir, fineGrained=cfg.fineGrained, title=\" Validation Data Statistics \")\n",
    "    plot.show_statistics(cfg.testing_img_dir, fineGrained=cfg.fineGrained, title=\" Testing Data Statistics \")"
   ]
  },
  {
   "cell_type": "markdown",
   "metadata": {},
   "source": [
    "## Create model\n",
    "Here is an simple architecture to train our network."
   ]
  },
  {
   "cell_type": "code",
   "execution_count": 12,
   "metadata": {},
   "outputs": [],
   "source": [
    "class SimpleModel(nn.Module):\n",
    "    def __init__(self,num_channels:int=4, num_classes:int=3, input_shape=(10,10),**kwargs):\n",
    "        super().__init__()\n",
    "        self.conv_layer1 = self._conv_layer_set(num_channels, 32)\n",
    "        self.conv_layer2 = self._conv_layer_set(32, 64)\n",
    "        self.fc1 = nn.Linear(64*30*30, 64) # Calculated with the size\n",
    "        self.fc2 = nn.Linear(64, num_classes)\n",
    "        \n",
    "        self.drop = nn.Dropout(0.5)\n",
    "        \n",
    "    def _conv_layer_set(self, in_c, out_c):\n",
    "        conv_layer = nn.Sequential(OrderedDict([\n",
    "            ('conv',nn.Conv2d(in_c, out_c, kernel_size=3, padding=0)),\n",
    "            ('leakyrelu',nn.LeakyReLU()),\n",
    "            ('maxpool',nn.MaxPool2d(2)),\n",
    "        ]))\n",
    "        return conv_layer\n",
    "    \n",
    "\n",
    "    def forward(self, x):\n",
    "        # Set 1\n",
    "\n",
    "        out = self.conv_layer1(x)\n",
    "        out = self.conv_layer2(out)\n",
    "        #out = self.batch(out)\n",
    " \n",
    "        out = out.view(out.size(0), -1) # Flatten (batchsize, image size)\n",
    "        out = self.fc1(out)\n",
    "        out = self.drop(out)\n",
    "        out = self.fc2(out)\n",
    "        \n",
    "        return out"
   ]
  },
  {
   "cell_type": "markdown",
   "metadata": {},
   "source": [
    "## Config"
   ]
  },
  {
   "cell_type": "code",
   "execution_count": 14,
   "metadata": {},
   "outputs": [],
   "source": [
    "# Train model\n",
    "config = {\n",
    "    'optimizer':{\n",
    "        \"type\":torch.optim.Adam,\n",
    "        \"args\":{\n",
    "            \"lr\":0.005,\n",
    "        }\n",
    "    },\n",
    "    'criterion':torch.nn.CrossEntropyLoss(), # error function\n",
    "    'max_epochs':5,\n",
    "    \"train_metrics\":torchmetrics.MetricCollection([\n",
    "        torchmetrics.Accuracy(num_classes=cfg.NUM_CLASSES,compute_on_step=False),\n",
    "        torchmetrics.IoU(num_classes=cfg.NUM_CLASSES, compute_on_step=False)\n",
    "    ],postfix=\"_Train\"),\n",
    "    \"validation_metrics\":torchmetrics.MetricCollection([\n",
    "        torchmetrics.Accuracy(num_classes=cfg.NUM_CLASSES,compute_on_step=False),\n",
    "        torchmetrics.IoU(num_classes=cfg.NUM_CLASSES, compute_on_step=False)\n",
    "    ],postfix=\"_Validation\")\n",
    "}"
   ]
  },
  {
   "cell_type": "markdown",
   "metadata": {},
   "source": [
    "## Train"
   ]
  },
  {
   "cell_type": "code",
   "execution_count": 15,
   "metadata": {},
   "outputs": [
    {
     "name": "stderr",
     "output_type": "stream",
     "text": [
      "GPU available: True, used: True\n",
      "TPU available: False, using: 0 TPU cores\n",
      "LOCAL_RANK: 0 - CUDA_VISIBLE_DEVICES: [0]\n",
      "/home/stud/f/fremar16/miniconda3/envs/DL-Labs/lib/python3.9/site-packages/torch/nn/functional.py:718: UserWarning: Named tensors and all their associated APIs are an experimental feature and subject to change. Please do not use them for anything important until they are released as stable. (Triggered internally at  /pytorch/c10/core/TensorImpl.h:1156.)\n",
      "  return torch.max_pool2d(input, kernel_size, stride, padding, dilation, ceil_mode)\n"
     ]
    },
    {
     "name": "stdout",
     "output_type": "stream",
     "text": [
      "Epoch 2 [153/339] {'loss': '0.0622'}\r"
     ]
    },
    {
     "name": "stderr",
     "output_type": "stream",
     "text": [
      "/home/stud/f/fremar16/miniconda3/envs/DL-Labs/lib/python3.9/site-packages/pytorch_lightning/trainer/trainer.py:895: UserWarning: Detected KeyboardInterrupt, attempting graceful shutdown...\n",
      "  rank_zero_warn('Detected KeyboardInterrupt, attempting graceful shutdown...')\n"
     ]
    }
   ],
   "source": [
    "# Load model\n",
    "modelObj = Model(SimpleModel(num_classes=cfg.NUM_CLASSES, num_channels=cfg.IMAGE_CHANNEL, input_shape=(cfg.IMAGE_HEIGHT, cfg.IMAGE_WIDTH)),**config)\n",
    "\n",
    "# Setup trainer\n",
    "trainer = pl.Trainer(\n",
    "            max_epochs=config['max_epochs'], \n",
    "            gpus=cfg.GPU,\n",
    "            logger=pl.loggers.TensorBoardLogger(save_dir=cfg.TENSORBORD_DIR),\n",
    "            callbacks=[LitProgressBar()],\n",
    "            progress_bar_refresh_rate=1,\n",
    "            weights_summary=None, # Can be None, top or full\n",
    "            num_sanity_val_steps=10,   \n",
    "        )\n",
    "# Train with the training and validation data- \n",
    "trainer.fit(\n",
    "    modelObj, \n",
    "    train_dataloader=train_dataloader,\n",
    "    val_dataloaders=valid_dataloader\n",
    ");"
   ]
  },
  {
   "cell_type": "markdown",
   "metadata": {},
   "source": [
    "## Test performance"
   ]
  },
  {
   "cell_type": "code",
   "execution_count": null,
   "metadata": {},
   "outputs": [],
   "source": [
    "# Create iterable from the test dataset\n",
    "iter_dataloader = iter(test_dataloader)"
   ]
  },
  {
   "cell_type": "code",
   "execution_count": null,
   "metadata": {},
   "outputs": [],
   "source": [
    "# Take one batch from the test dataset and predict!\n",
    "X, Y = next(iter_dataloader)\n",
    "preds = torch.argmax(modelObj.predict_step(X,0,0),dim=1)"
   ]
  },
  {
   "cell_type": "code",
   "execution_count": null,
   "metadata": {},
   "outputs": [],
   "source": [
    "import pandas as pd\n",
    "import matplotlib.pyplot as plt\n",
    "import torchvision\n",
    "n_test = 10\n",
    "df_result = pd.DataFrame({\n",
    "    'Ground Truth': Y[:n_test],\n",
    "    'Predicted label': preds[:n_test]})\n",
    "display(df_result.T)"
   ]
  },
  {
   "cell_type": "code",
   "execution_count": null,
   "metadata": {},
   "outputs": [],
   "source": [
    "plot.classification_results(X, preds)"
   ]
  },
  {
   "cell_type": "markdown",
   "metadata": {},
   "source": [
    "# Exercises"
   ]
  },
  {
   "cell_type": "markdown",
   "metadata": {},
   "source": [
    "## Task 1\n",
    "Create an network architecture given in the function **create_model** of the class SegmenterDNNModel. \n",
    "\n",
    "**Hint:** You can add more convolution, max pooling layers etc. Batch normalization and dropout are other options to be considered. You can also try applying different activation functions."
   ]
  },
  {
   "cell_type": "markdown",
   "metadata": {},
   "source": [
    "## Hyperparameter tuning"
   ]
  },
  {
   "cell_type": "markdown",
   "metadata": {},
   "source": [
    "## Augmentation\n",
    "Test if data augmentation help"
   ]
  },
  {
   "cell_type": "code",
   "execution_count": null,
   "metadata": {},
   "outputs": [],
   "source": []
  }
 ],
 "metadata": {
  "kernelspec": {
   "display_name": "DL-Labs",
   "language": "python",
   "name": "dl-labs"
  },
  "language_info": {
   "codemirror_mode": {
    "name": "ipython",
    "version": 3
   },
   "file_extension": ".py",
   "mimetype": "text/x-python",
   "name": "python",
   "nbconvert_exporter": "python",
   "pygments_lexer": "ipython3",
   "version": "3.9.1"
  }
 },
 "nbformat": 4,
 "nbformat_minor": 4
}
