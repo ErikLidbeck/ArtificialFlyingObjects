{
 "cells": [
  {
   "cell_type": "markdown",
   "metadata": {},
   "source": [
    "<h1 style=\"font-size:40px;\"><center>Exercise IV: Classification\n",
    "    \n",
    "</center></h1>"
   ]
  },
  {
   "cell_type": "markdown",
   "metadata": {},
   "source": [
    "For this exercise you are given two classification problems with a fixed training-, validation- and test dataset. A spiral dataset and a japanese vowels dataset.\n",
    "\n",
    "The **task** is to do model selection, coming up with your optimal MLP architecture together with the hyperparameters. Below the code for training and loading of data, also a very primitive model. However, the model need to be adapted for the two tasks.\n",
    "\n",
    "# Data\n",
    "## Spiral data\n",
    "This is the \"famous\" spiral dataset that consists of two 2-D spirals, one for each class. The perfect classification boundary is also a spiral. The cell \"PlotData\" will plot this dataset.\n",
    "\n",
    "## Japanese vowels dataset\n",
    "*This data set is taken from the UCI Machine Learning Repository [https://archive.ics.uci.edu/ml/datasets/Japanese+Vowels].* In short, nine male speakers uttered two Japanese vowels /ae/ successively. For each utterance, a discrete times series was produced where each time point consists of 12 (LPC cepstrum) coefficients. The length of each time series was between 7-29. \n",
    "Here we treat each point of the time series as a feature (12 inputs). In total we have 9961\n",
    "data points which then has been divided into 4274 for training, 2275 for validation and 3412 for test. The original data files are provided as *ae.train* and *ae.test*. The task is now based on a single sample value of one of the speakers, determine which speaker it was. This is, in summary, a 9-class classification problem with 12 input values for each case."
   ]
  },
  {
   "cell_type": "markdown",
   "metadata": {},
   "source": [
    "# Code"
   ]
  },
  {
   "cell_type": "markdown",
   "metadata": {},
   "source": [
    "The following code allows us to edit imported files without restarting the kernel for the notebook"
   ]
  },
  {
   "cell_type": "code",
   "execution_count": 1,
   "metadata": {},
   "outputs": [],
   "source": [
    "%load_ext autoreload\n",
    "%autoreload 2\n",
    "\n",
    "# Hacky solution to access the global utils package\n",
    "import sys,os\n",
    "sys.path.append(os.path.dirname(os.path.realpath('..')))"
   ]
  },
  {
   "cell_type": "code",
   "execution_count": 2,
   "metadata": {},
   "outputs": [
    {
     "name": "stderr",
     "output_type": "stream",
     "text": [
      "/home/stud/f/fremar16/miniconda3/envs/DL-Labs/lib/python3.9/site-packages/pytorch_lightning/metrics/__init__.py:43: LightningDeprecationWarning: `pytorch_lightning.metrics.*` module has been renamed to `torchmetrics.*` and split off to its own package (https://github.com/PyTorchLightning/metrics) since v1.3 and will be removed in v1.5\n",
      "  rank_zero_deprecation(\n"
     ]
    }
   ],
   "source": [
    "import numpy as np\n",
    "import matplotlib.pyplot as plt\n",
    "import torch\n",
    "import pytorch_lightning as pl\n",
    "\n",
    "from config import LabConfig\n",
    "from dataset import MLPData\n",
    "from DL_labs.utils.model import Model\n",
    "from DL_labs.utils.progressbar import LitProgressBar\n",
    "from DL_labs.utils.model import Model\n",
    "from torch.utils.data import TensorDataset, DataLoader\n",
    "import torchmetrics\n",
    "from DL_labs.utils import (\n",
    "    plot,\n",
    "    progressbar\n",
    ") "
   ]
  },
  {
   "cell_type": "code",
   "execution_count": 3,
   "metadata": {},
   "outputs": [],
   "source": [
    "cfg = LabConfig()"
   ]
  },
  {
   "cell_type": "markdown",
   "metadata": {},
   "source": [
    "## Task 1\n",
    "**TODO:** Present an MLP with associated hyperparameters that maximizes the validation performance and give the test performance you obtained.\n",
    "\n",
    "**Hint 1:** \n",
    "Remember to check if input data needs to be normalized. .\n",
    "\n",
    "**Hint 2:** \n",
    "This problem is a 9-class classification problem, meaning that you should use a specific output activation function (*out_act_fun*) and a specific loss/error function (*cost_fun*)."
   ]
  },
  {
   "cell_type": "code",
   "execution_count": null,
   "metadata": {},
   "outputs": [],
   "source": [
    "# Load dataset - Vowels\n",
    "from DL_labs.utils.utils import onehot2int\n",
    "def numpy2Dataloader(x,y, batch_size=25, num_workers=10,**kwargs):\n",
    "    return DataLoader(\n",
    "        TensorDataset(\n",
    "            torch.from_numpy(x).float(), \n",
    "            torch.from_numpy(np.argmax(y,axis=1)).long()\n",
    "        ),\n",
    "        batch_size=batch_size,\n",
    "        num_workers=num_workers,\n",
    "        **kwargs\n",
    "    )\n",
    "\n",
    "x_train, y_train, x_val, y_val, x_test, y_test = MLPData.vowels(file_name_train=cfg.ae_train, file_name_test=cfg.ae_test)\n",
    "\n",
    "train_loader = numpy2Dataloader(x_train,y_train)\n",
    "val_loader =  numpy2Dataloader(x_val,y_val)\n",
    "test_loader =  numpy2Dataloader(x_test,y_test)\n",
    "\n",
    "num_classes = 9\n",
    "print(f'|{\"Type\":10} | {\"Input size\":10} | {\"Target size\":10}|')\n",
    "print(f'|{\"-\"*11}|{\"-\"*12}|{\"-\"*12}|')\n",
    "print(f'|{\"train\":10} | {str(x_train.shape):10} | {str(y_train.shape):10} |')\n",
    "print(f'|{\"val\":8}   | {str(x_val.shape):10} | {str(y_val.shape):10} |')\n",
    "print(f'|{\"test\":9}  | {str(x_test.shape):10} | {str(y_test.shape):10} |')"
   ]
  },
  {
   "cell_type": "code",
   "execution_count": null,
   "metadata": {},
   "outputs": [],
   "source": [
    "# TODO - Create model \n",
    "\n",
    "# TODO - Setup configurations\n",
    "\n",
    "# TODO - Run model\n",
    "\n",
    "# TODO - Validate performance"
   ]
  },
  {
   "cell_type": "markdown",
   "metadata": {},
   "source": [
    "## Task 2\n",
    "For this last exercise the task is to train a binary classifier for the spiral problem. The aim is to get *zero* classification error for the training data (there is no test data) with as small as possible model, in terms of the number of trainable weights. Also plot the boundary to see if it resembles a spriral. To pass this question you should at least try!\n",
    "\n",
    "**TODO:** Train a classifier for the spiral problem with the aim of zero classification error with as small as possible model."
   ]
  },
  {
   "cell_type": "code",
   "execution_count": 18,
   "metadata": {},
   "outputs": [],
   "source": [
    "# Load dataset\n",
    "def numpy2Dataloader(x,y, batch_size=25, num_workers=10,**kwargs):\n",
    "    return DataLoader(\n",
    "        TensorDataset(\n",
    "            torch.from_numpy(x).float(), \n",
    "            torch.from_numpy(y).long()\n",
    "        ),\n",
    "        batch_size=batch_size,\n",
    "        num_workers=num_workers,\n",
    "        **kwargs\n",
    "    )\n",
    "x_train, y_train = MLPData.spiral(cfg.spiral_path)\n",
    "train_loader = numpy2Dataloader(x_train,y_train)"
   ]
  },
  {
   "cell_type": "code",
   "execution_count": 13,
   "metadata": {
    "scrolled": true
   },
   "outputs": [],
   "source": [
    "# TODO - Create model \n",
    "\n",
    "# TODO - Setup configurations\n",
    "\n",
    "# TODO - Run model\n",
    "\n",
    "# TODO - Validate performance"
   ]
  },
  {
   "cell_type": "markdown",
   "metadata": {},
   "source": [
    "# Defining model\n",
    "\n",
    "This cell defines the MLP model. There are a number of parameters that is needed to \n",
    "define a model. Here is a list of them: **Note:** They can all be specified when you call\n",
    "this function in later cells. The ones specified in this cell are the default values.\n"
   ]
  },
  {
   "cell_type": "code",
   "execution_count": 4,
   "metadata": {},
   "outputs": [],
   "source": [
    "class MLP(torch.nn.Module):\n",
    "    def __init__(self, \n",
    "                inp_dim=None,         \n",
    "                hidden_nodes=1,                      # number of nodes in hidden layer\n",
    "                num_out=None,\n",
    "                **kwargs\n",
    "            ):\n",
    "        super(MLP, self).__init__()\n",
    "        self.fc1 = torch.nn.Linear(inp_dim, hidden_nodes)\n",
    "        self.relu = torch.nn.ReLU()\n",
    "        self.fc2 = torch.nn.Linear(hidden_nodes, num_out)\n",
    "\n",
    "\n",
    "    def forward(self, x):\n",
    "        hidden = self.fc1(x)\n",
    "        relu = self.relu(hidden)\n",
    "        output = self.fc2(relu)\n",
    "        return torch.sigmoid(output)"
   ]
  },
  {
   "cell_type": "markdown",
   "metadata": {},
   "source": [
    "## Define a function that allow us to convert numpy to pytorch DataLoader"
   ]
  },
  {
   "cell_type": "code",
   "execution_count": 5,
   "metadata": {},
   "outputs": [],
   "source": [
    "from DL_labs.utils.utils import onehot2int\n",
    "def numpy2Dataloader(x,y, batch_size=25, num_workers=10,**kwargs):\n",
    "    return DataLoader(\n",
    "        TensorDataset(\n",
    "            torch.from_numpy(x).float(), \n",
    "            torch.from_numpy(np.argmax(y,axis=1)).long()\n",
    "        ),\n",
    "        batch_size=batch_size,\n",
    "        num_workers=num_workers,\n",
    "        **kwargs\n",
    "    )"
   ]
  },
  {
   "cell_type": "markdown",
   "metadata": {},
   "source": [
    "## Load dataset - Vowels"
   ]
  },
  {
   "cell_type": "code",
   "execution_count": 6,
   "metadata": {},
   "outputs": [
    {
     "name": "stdout",
     "output_type": "stream",
     "text": [
      "|Type       | Input size | Target size|\n",
      "|-----------|------------|------------|\n",
      "|train      | (4274, 12) | (4274, 9)  |\n",
      "|val        | (2275, 12) | (2275, 9)  |\n",
      "|test       | (3412, 12) | (3412, 9)  |\n"
     ]
    }
   ],
   "source": [
    "x_train, y_train, x_val, y_val, x_test, y_test = MLPData.vowels(file_name_train=cfg.ae_train, file_name_test=cfg.ae_test)\n",
    "\n",
    "train_loader = numpy2Dataloader(x_train,y_train)\n",
    "val_loader =  numpy2Dataloader(x_val,y_val)\n",
    "test_loader =  numpy2Dataloader(x_test,y_test)\n",
    "\n",
    "num_classes = 9\n",
    "print(f'|{\"Type\":10} | {\"Input size\":10} | {\"Target size\":10}|')\n",
    "print(f'|{\"-\"*11}|{\"-\"*12}|{\"-\"*12}|')\n",
    "print(f'|{\"train\":10} | {str(x_train.shape):10} | {str(y_train.shape):10} |')\n",
    "print(f'|{\"val\":8}   | {str(x_val.shape):10} | {str(y_val.shape):10} |')\n",
    "print(f'|{\"test\":9}  | {str(x_test.shape):10} | {str(y_test.shape):10} |')"
   ]
  },
  {
   "cell_type": "markdown",
   "metadata": {},
   "source": [
    "## Configuration\n",
    "Setup our local config that should be used for the trainer.\n",
    "\n",
    "*train_metrics*, *validation_metrics* and *test_metrics* define metrics from torchmetrics to use during training."
   ]
  },
  {
   "cell_type": "code",
   "execution_count": 7,
   "metadata": {},
   "outputs": [],
   "source": [
    "# TODO\n",
    "config = {\n",
    "    'max_epochs':20,\n",
    "    'model_params':{\n",
    "        'inp_dim':x_train.shape[1],         \n",
    "        'hidden_nodes':1,   # activation functions for the hidden layer\n",
    "        'num_out':y_train.shape[1] # if binary --> 1 |  regression--> num inputs | multi-class--> num of classes\n",
    "    },\n",
    "    'criterion':torch.nn.CrossEntropyLoss(), # error function\n",
    "    'optimizer':{\n",
    "        \"type\":torch.optim.Adam,\n",
    "        \"args\":{\n",
    "            \"lr\":0.005,\n",
    "        }\n",
    "    },\n",
    "    \"train_metrics\":torchmetrics.MetricCollection([\n",
    "        torchmetrics.Accuracy(num_classes=y_train.shape[1],compute_on_step=False),\n",
    "    ],postfix=\"_Train\"),\n",
    "    \"validation_metrics\":torchmetrics.MetricCollection([\n",
    "        torchmetrics.Accuracy(num_classes=y_train.shape[1],compute_on_step=False),\n",
    "    ],postfix=\"_Validation\"),\n",
    "    \"test_metrics\":torchmetrics.MetricCollection([\n",
    "        torchmetrics.Accuracy(num_classes=y_train.shape[1],compute_on_step=False),\n",
    "    ],postfix=\"_Test\")\n",
    "}"
   ]
  },
  {
   "cell_type": "markdown",
   "metadata": {},
   "source": [
    "## Training"
   ]
  },
  {
   "cell_type": "markdown",
   "metadata": {},
   "source": [
    "Lastly, put everything together and call on the trainers fit method. "
   ]
  },
  {
   "cell_type": "code",
   "execution_count": 8,
   "metadata": {},
   "outputs": [
    {
     "name": "stderr",
     "output_type": "stream",
     "text": [
      "GPU available: True, used: True\n",
      "TPU available: False, using: 0 TPU cores\n",
      "LOCAL_RANK: 0 - CUDA_VISIBLE_DEVICES: [0]\n"
     ]
    },
    {
     "name": "stdout",
     "output_type": "stream",
     "text": [
      "Epoch 20 [171/171] {'loss': '2.13'}\r"
     ]
    }
   ],
   "source": [
    "model = Model(MLP(**config[\"model_params\"]),**config)\n",
    "\n",
    "trainer = pl.Trainer(\n",
    "            max_epochs=config['max_epochs'], \n",
    "            gpus=cfg.GPU,\n",
    "            logger=pl.loggers.TensorBoardLogger(save_dir=cfg.TENSORBORD_DIR),\n",
    "            callbacks=[LitProgressBar()],\n",
    "            progress_bar_refresh_rate=1,\n",
    "            weights_summary=None, # Can be None, top or full\n",
    "            num_sanity_val_steps=10,   \n",
    "        )\n",
    "trainer.fit(\n",
    "    model, \n",
    "    train_dataloader=train_loader,\n",
    "    val_dataloaders=val_loader\n",
    ");"
   ]
  },
  {
   "cell_type": "markdown",
   "metadata": {},
   "source": [
    "## Evaluation\n",
    "Run the testset and evaluate the performance of the model."
   ]
  },
  {
   "cell_type": "code",
   "execution_count": 9,
   "metadata": {},
   "outputs": [
    {
     "name": "stderr",
     "output_type": "stream",
     "text": [
      "LOCAL_RANK: 0 - CUDA_VISIBLE_DEVICES: [0]\n"
     ]
    },
    {
     "name": "stdout",
     "output_type": "stream",
     "text": [
      "--------------------------------------------------------------------------------\n",
      "DATALOADER:0 TEST RESULTS\n",
      "{'loss_Test': 1.9360814094543457}\n",
      "--------------------------------------------------------------------------------\n"
     ]
    },
    {
     "data": {
      "text/plain": [
       "[{'loss_Test': 1.9360814094543457}]"
      ]
     },
     "execution_count": 9,
     "metadata": {},
     "output_type": "execute_result"
    }
   ],
   "source": [
    "# Move to correct device!\n",
    "trainer.test(model, test_dataloaders=test_loader)"
   ]
  },
  {
   "cell_type": "code",
   "execution_count": 10,
   "metadata": {},
   "outputs": [
    {
     "data": {
      "text/plain": [
       "{'loss_Validation': tensor(1.9341, device='cuda:0'),\n",
       " 'epoch': tensor(19.),\n",
       " 'Accuracy_Validation': tensor(0.2211, device='cuda:0'),\n",
       " 'Loss_Train': tensor(2.0471, device='cuda:0'),\n",
       " 'Accuracy_Train': tensor(0.1235, device='cuda:0'),\n",
       " 'loss_Test': tensor(1.9361)}"
      ]
     },
     "execution_count": 10,
     "metadata": {},
     "output_type": "execute_result"
    }
   ],
   "source": [
    "trainer.logged_metrics"
   ]
  },
  {
   "cell_type": "markdown",
   "metadata": {},
   "source": [
    "### Confusion matrix "
   ]
  },
  {
   "cell_type": "code",
   "execution_count": 11,
   "metadata": {},
   "outputs": [
    {
     "name": "stderr",
     "output_type": "stream",
     "text": [
      "<ipython-input-11-210b4c77e092>:1: UserWarning: Implicit dimension choice for softmax has been deprecated. Change the call to include dim=X as an argument.\n",
      "  predictions = torch.argmax(torch.nn.functional.softmax(model(torch.from_numpy(x_train).float())),dim=1)\n"
     ]
    },
    {
     "data": {
      "image/png": "[encoded data removed]",
      "text/plain": [
       "<Figure size 576x432 with 2 Axes>"
      ]
     },
     "metadata": {
      "needs_background": "light"
     },
     "output_type": "display_data"
    }
   ],
   "source": [
    "predictions = torch.argmax(torch.nn.functional.softmax(model(torch.from_numpy(x_train).float())),dim=1)\n",
    "target = torch.argmax(torch.from_numpy(y_train), axis=1)\n",
    "\n",
    "confuTst = torchmetrics.functional.confusion_matrix(predictions.detach().cpu(),target.int().detach().cpu(), cfg.AE_NUM_CLASSES)\n",
    "\n",
    "plot.confusion_matrix(cm = confuTst.numpy(), \n",
    "                      normalize = False,\n",
    "                      target_names = cfg.AE_CLASSES,\n",
    "                      title = \"Confusion Matrix: Test data\")"
   ]
  }
 ],
 "metadata": {
  "kernelspec": {
   "display_name": "DL-Labs",
   "language": "python",
   "name": "dl-labs"
  },
  "language_info": {
   "codemirror_mode": {
    "name": "ipython",
    "version": 3
   },
   "file_extension": ".py",
   "mimetype": "text/x-python",
   "name": "python",
   "nbconvert_exporter": "python",
   "pygments_lexer": "ipython3",
   "version": "3.9.1"
  }
 },
 "nbformat": 4,
 "nbformat_minor": 4
}
