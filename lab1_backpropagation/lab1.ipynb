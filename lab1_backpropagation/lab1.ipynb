{
 "cells": [
  {
   "cell_type": "markdown",
   "metadata": {
    "toc-hr-collapsed": true
   },
   "source": [
    "<h1 style=\"font-size:40px;\"><center>Exercise I:<br> Backpropagation\n",
    "</center></h1>\n"
   ]
  },
  {
   "cell_type": "code",
   "execution_count": 1,
   "metadata": {},
   "outputs": [],
   "source": [
    "%load_ext autoreload\n",
    "%autoreload 2"
   ]
  },
  {
   "cell_type": "markdown",
   "metadata": {},
   "source": [
    "# Introduction"
   ]
  },
  {
   "cell_type": "markdown",
   "metadata": {},
   "source": [
    "Welcome to the first lab for Deep Learning!\n",
    "\n",
    "In this lab we will scratch the surface of pytorch and deep learning. Pytorch is a power tool for data scientists to train neural networks. Pytorch have a lot of features which can be used too train and create custom dataloaders, models and trainers in order to solve most problems related to neural networks.\n",
    "\n",
    "For this lab all tasks include **TODO's** these are expected to be done before the deadline. At the end of the lab some questions shall be answered and what you have learned during the lab.\n",
    "\n",
    "There is a file called config.py. This file contains most of the settings that is used during the lab. We wont use every setting at all time but the config help us to keep organised."
   ]
  },
  {
   "cell_type": "markdown",
   "metadata": {},
   "source": [
    "# Lab 1"
   ]
  },
  {
   "cell_type": "code",
   "execution_count": 16,
   "metadata": {},
   "outputs": [],
   "source": [
    "# local modules\n",
    "from dataset import ImageDataLoader \n",
    "from config import flying_objects_config\n",
    "\n",
    "# Torch packages\n",
    "import torch\n",
    "import torch.nn as nn\n",
    "import torch.nn.functional as F"
   ]
  },
  {
   "cell_type": "markdown",
   "metadata": {},
   "source": [
    "## Load config"
   ]
  },
  {
   "cell_type": "code",
   "execution_count": 17,
   "metadata": {},
   "outputs": [],
   "source": [
    "cfg = flying_objects_config()"
   ]
  },
  {
   "cell_type": "markdown",
   "metadata": {},
   "source": [
    "## Define neural network"
   ]
  },
  {
   "cell_type": "markdown",
   "metadata": {},
   "source": [
    "In order to create a neural network model we need to implement the following class which inherits nn.Module. \n",
    "\n",
    "The first example is a single perceptron with relu as activation function. Relu replaces the heaviside step function in order to make progress in the weight updates.\n",
    "\n",
    "If we assume that the trainer uses CrossEntropyLoss from pytorch we do not need to define an activation function before the output since CrossEntropyLoss combines nn.LogSoftmax() and nn.NLLLoss()."
   ]
  },
  {
   "cell_type": "code",
   "execution_count": 18,
   "metadata": {},
   "outputs": [],
   "source": [
    "# Example 1\n",
    "class Perceptron(nn.Module):\n",
    "    def __init__(self):\n",
    "        super(Perceptron, self).__init__()\n",
    "        self.fc = nn.Linear(1,1)\n",
    "        self.relu = nn.ReLU() \n",
    "        \n",
    "    def forward(self, x):\n",
    "        x = x.view(x.size(0), -1) # Flatten\n",
    "        output = self.fc(x)\n",
    "        output = self.relu(x)\n",
    "        return output"
   ]
  },
  {
   "cell_type": "markdown",
   "metadata": {},
   "source": [
    "The second example is a feedforward network model which have 1 hidden layer. We can add additional hidden layers if we want. This is known as a deep/multilayer feedforward model or multilayer perceptron model (MLP)"
   ]
  },
  {
   "cell_type": "code",
   "execution_count": 5,
   "metadata": {},
   "outputs": [],
   "source": [
    "# Example 2\n",
    "class Feedforward(nn.Module):\n",
    "        def __init__(self, input_size, output_size,hidden_size):\n",
    "            super(Feedforward, self).__init__()\n",
    "            self.fc1 = nn.Linear(input_size, hidden_size)\n",
    "            self.relu = nn.ReLU()\n",
    "            self.fc2 = nn.Linear(hidden_size, output_size)\n",
    "            \n",
    "        def forward(self, x):\n",
    "            x = x.view(x.size(0), -1) # Flatten\n",
    "            hidden = self.fc1(x)\n",
    "            relu = self.relu(hidden)\n",
    "            output = self.fc2(relu)\n",
    "            return output"
   ]
  },
  {
   "cell_type": "markdown",
   "metadata": {},
   "source": [
    "## Task 1\n",
    "Extend the hidden_size until we see that the loss is going down.\n",
    "\n",
    "Note: In order to test the model the training model needs to be implemented!"
   ]
  },
  {
   "cell_type": "markdown",
   "metadata": {},
   "source": [
    "## Task 2\n",
    "How did the prevous network perform? \n",
    "In this task increase the depht (more layers) of the network instead of the size of the hidden layer.\n",
    "\n",
    "Note: In order to test the model the training model needs to be implemented!"
   ]
  },
  {
   "cell_type": "code",
   "execution_count": 6,
   "metadata": {},
   "outputs": [],
   "source": [
    "class Task1(nn.Module):\n",
    "    def __init__(self, input_size, hidden_size, output_size):\n",
    "        # TODO: Implement layers\n",
    "        pass\n",
    "\n",
    "    def forward(self, x):\n",
    "        # TODO: Add layers that should be forwarded\n",
    "        pass\n"
   ]
  },
  {
   "cell_type": "markdown",
   "metadata": {},
   "source": [
    "## Setup Dataloader"
   ]
  },
  {
   "cell_type": "markdown",
   "metadata": {},
   "source": [
    "In order to load data into training we need to introduce two new concepts. Pytorch have two classes: Dataset and DataLoader these two classes allow us to load data in a structured way. The Dataset contains our loading of data which is called upon during training. In order to create batches and shuffle dataset we use the DataLoader. \n",
    "\n",
    "The following example is how our data is loaded to training."
   ]
  },
  {
   "cell_type": "raw",
   "metadata": {},
   "source": [
    "class ImageDataset(Dataset):\n",
    "    def __init__(self, data,transform=None):\n",
    "        super().__init__()\n",
    "        self.transform = transform\n",
    "        self.data = [path + '/' + filename for path,filename,*_ in data]\n",
    "        self.labels = [label for _,_,_,_,label,_ in data]    #name.split('_',1)[0]\n",
    "        \n",
    "    def __getitem__(self, index):\n",
    "        # get data\n",
    "        x = imageio.imread(self.data[index])\n",
    "        if self.transform:\n",
    "            x = self.transform(x)\n",
    "        else:\n",
    "            x = torch.from_numpy(x)\n",
    "        x = x.float()\n",
    "   \n",
    "        # get label\n",
    "        y = self.labels[index]\n",
    "   \n",
    "        y = torch.tensor(int(y))\n",
    "        return (x, y)\n",
    "\n",
    "    def __len__(self):\n",
    "        return len(self.data)"
   ]
  },
  {
   "cell_type": "markdown",
   "metadata": {},
   "source": [
    "Below we show how we load the dataset and select appropriate transformations. "
   ]
  },
  {
   "cell_type": "raw",
   "metadata": {},
   "source": [
    "# Define transformations\n",
    "transform = torchvision.transforms.Compose([\n",
    "    torchvision.transforms.Lambda(lambda img:resize(img, self.hparams.img_shape)),\n",
    "    torchvision.transforms.ToTensor()\n",
    "])\n",
    "\n",
    "# Load dataset\n",
    "ds = ImageDataset(self.load_image_paths(self.hparams.training_img_dir), transform=transform)\n",
    "\n",
    "# Create a dataloader\n",
    "dataloader = DataLoader(ds,\n",
    "                        batch_size=self.hparams.BATCH_SIZE,\n",
    "                        shuffle=False,\n",
    "                        num_workers=self.hparams.NUM_WORKERS)\n",
    "return dataloader"
   ]
  },
  {
   "cell_type": "markdown",
   "metadata": {},
   "source": [
    "Since the code is availible to us we only have to call upon our loaders."
   ]
  },
  {
   "cell_type": "code",
   "execution_count": 7,
   "metadata": {},
   "outputs": [],
   "source": [
    "dataset = ImageDataLoader(**cfg)\n",
    "trainset = dataset.train_dataloader()\n",
    "valset = dataset.validation_dataloader()\n",
    "testset = dataset.test_dataloader()"
   ]
  },
  {
   "cell_type": "markdown",
   "metadata": {},
   "source": [
    "## Plot a batch from dataset"
   ]
  },
  {
   "cell_type": "markdown",
   "metadata": {},
   "source": [
    "In order to visualise the dataset we will use the function plot_grid_of_batch in order to plot the data of a batch. "
   ]
  },
  {
   "cell_type": "code",
   "execution_count": 8,
   "metadata": {},
   "outputs": [],
   "source": [
    "d = iter(trainset)"
   ]
  },
  {
   "cell_type": "code",
   "execution_count": 9,
   "metadata": {},
   "outputs": [],
   "source": [
    "data,labels = next(d)"
   ]
  },
  {
   "cell_type": "code",
   "execution_count": 10,
   "metadata": {},
   "outputs": [
    {
     "name": "stdout",
     "output_type": "stream",
     "text": [
      "Labels tensor([0, 0, 0, 0, 0, 0, 0, 0, 0, 0, 0, 0, 0, 0, 0, 0, 0, 0, 0, 0, 0, 0, 0, 0,\n",
      "        0, 0, 0, 0, 0, 0, 0, 0])\n"
     ]
    },
    {
     "data": {
      "image/png": "[encoded data removed]",
      "text/plain": [
       "<Figure size 432x288 with 1 Axes>"
      ]
     },
     "metadata": {
      "needs_background": "light"
     },
     "output_type": "display_data"
    }
   ],
   "source": [
    "from utils import plot_grid_of_batch\n",
    "plot_grid_of_batch(data)\n",
    "print(\"Labels\",labels)"
   ]
  },
  {
   "cell_type": "markdown",
   "metadata": {},
   "source": [
    "## Learning framework"
   ]
  },
  {
   "cell_type": "markdown",
   "metadata": {},
   "source": [
    "In this section we will create a learning framework or a **Training class**. The class consist of four methods to train our network. We will at first focus on the **fit** and **training_step** methods. \n",
    "\n",
    "The fit method will take care of our epochs and switching between training to validation. It also iterate our dataset which is then sent as batches to the training_step. \n",
    "\n",
    "The training_step consist of 4 stages:\n",
    "1. Compute model's predictions (forward pass)\n",
    "2. Compute the loss, using predictions, labels and a appropriate loss function\n",
    "3. Compute the gradients for every parameter (backpropagation) \n",
    "4. Update the parameters\n",
    "\n",
    "The validation_step consist of 2 stages:\n",
    "1. Compute model's predictions (forward pass)\n",
    "2. Compute the loss, using predictions, labels and a appropriate loss function\n",
    "\n",
    "The evaluation function disables disables gradient updates in order to reduce memory consumption during validation. This is just for optimization.\n",
    "\n",
    "The run_on_gpu function checks if an GPU is availible and if it is we want to use it. Note that we need to implement support for the GPU through cuda."
   ]
  },
  {
   "cell_type": "markdown",
   "metadata": {},
   "source": [
    "## Tasks\n",
    "\n",
    "The following tasks will be done on the Training class below.\n",
    "\n",
    "**Task 1:**\n",
    "\n",
    "Implement the following in \\__init__:\n",
    "1. [ ] Criterion (loss)\n",
    "2. [ ] Optimizer\n",
    "\n",
    "**Task 2:**\n",
    "\n",
    "1. [ ] Implement the TODO's in training step.\n",
    "2. [ ] Check that the training is running on CPU\n",
    "\n",
    "**Task 3:**\n",
    "1. [ ] Implement the TODO's in validation step.\n",
    "**Task 4:**\n",
    "\n",
    "1. [ ] Change training step to run on gpu. \n",
    "    Hint: Convert the model first. Use self.device to get GPU setting."
   ]
  },
  {
   "cell_type": "code",
   "execution_count": 13,
   "metadata": {},
   "outputs": [],
   "source": [
    "#https://towardsdatascience.com/understanding-pytorch-with-an-example-a-step-by-step-tutorial-81fc5f8c4e8e#5017\n",
    "class Training:\n",
    "    def __init__(self, model):\n",
    "        self.device = self.run_on_gpu()\n",
    "        self.model = model\n",
    "        self.criterion = # TODO\n",
    "        self.optimizer = # TODO\n",
    "        \n",
    "   \n",
    "    def training_step(self, data):\n",
    "        #Run trainingset\n",
    "        \n",
    "        # Get input and target. Contains a minibatch!\n",
    "        inputs, labels = data[0],data[1]\n",
    "        \n",
    "        # TODO: Set model in training mode\n",
    "            \n",
    "        # TODO: forward pass\n",
    "\n",
    "        # TODO: Calculate loss\n",
    "\n",
    "        # TODO: backward propagate\n",
    "\n",
    "        # TODO: Gradient descent\n",
    "        \n",
    "        # TODO: Zero the parameter gradients\n",
    "        \n",
    "        \n",
    "        return loss.item()\n",
    "    \n",
    "    def validation_step(self, data):   \n",
    "        # Run validation set on data\n",
    "        inputs, labels = data[0],data[1]\n",
    "        \n",
    "        # TODO: Set model in validation mode\n",
    "        \n",
    "        # TODO: forward pass\n",
    "        \n",
    "        # TODO: Calculate loss\n",
    "        \n",
    "        # Return loss\n",
    "        return loss.item()\n",
    "        \n",
    "    def fit(self, trainset, valset=None, num_epochs=10):\n",
    "        # Train the model. Run N numer of epochs on trainingset and at end of epoch run validation set. Print loss.\n",
    "        for epoch in range(1,num_epochs+1):  \n",
    "            num_steps = len(trainset)\n",
    "            train_loss = 0\n",
    "            \n",
    "            # Iterate trainingset\n",
    "            for step, data in enumerate(trainset, 1):\n",
    "                train_loss += self.training_step(data)\n",
    "                \n",
    "                if step < num_steps:\n",
    "                    print('[%d/%d, %d/%d] loss: %f' % (epoch,num_epochs,step,num_steps, (train_loss/step)), end=\"\\r\")\n",
    "                else:\n",
    "                    print('[%d/%d, %d/%d] loss: %f' % (epoch,num_epochs,step,num_steps, (train_loss/step)), end=\" \")\n",
    "    \n",
    "            # Iterate validationset if it is availble\n",
    "            if valset: \n",
    "                val_loss = self.evaluate(valset)\n",
    "            \n",
    "        print('Finished Training')\n",
    "    \n",
    "    def evaluate(self, dataset):\n",
    "        # Method to evaluate our model on the validationset. This function is also used for the testset\n",
    "        \n",
    "        # Disable gradient updates since it is not needed (reduce memory consumption)\n",
    "        val_loss = 0\n",
    "        with torch.no_grad():\n",
    "            # Iterate dataset\n",
    "            for step, data in enumerate(dataset, 1):\n",
    "                val_loss += self.validation_step(data)\n",
    "            print('val_loss: %f' % (val_loss/len(dataset)))    \n",
    "            \n",
    "        return val_loss\n",
    "    \n",
    "    def run_on_gpu(self):\n",
    "        # Check if gpu is availible. Print the results and return the selected device.\n",
    "        print(\"GPU availible?\", torch.cuda.is_available())\n",
    "        return torch.device(\"cuda:0\" if torch.cuda.is_available() else \"cpu\")\n",
    "        "
   ]
  },
  {
   "cell_type": "markdown",
   "metadata": {},
   "source": [
    "## Run training"
   ]
  },
  {
   "cell_type": "code",
   "execution_count": null,
   "metadata": {},
   "outputs": [],
   "source": [
    "# Start training\n",
    "#model = Net(channels=cfg.IMAGE_CHANNEL, num_classes=cfg.NUM_CLASS)\n",
    "model = Feedforward(3*128*128, cfg.NUM_CLASS, 2)\n",
    "trainer = Training(model)\n",
    "trainer.fit(dataset.train_dataloader(), dataset.validation_dataloader())"
   ]
  },
  {
   "cell_type": "markdown",
   "metadata": {},
   "source": [
    "# The report!\n",
    "\n",
    "\n",
    "## Name\n",
    "\n",
    "## Introduction\n",
    "\n",
    "## Questions\n",
    "\n",
    "1. How did the training time change when moving to GPU?\n",
    "2. What would happen if we remove the activation function from the Perceptron model? \n",
    "3. What is the purpose of the activation functions after each hidden layer?\n",
    "4. What was the reason behind the choice of optimization and loss function?\n",
    "\n",
    "5. Bonus task (not mandatory): Develop a network which can classify additional classes. (Enable fineGrained in config)\n",
    "\n",
    "## Summary "
   ]
  },
  {
   "cell_type": "code",
   "execution_count": null,
   "metadata": {},
   "outputs": [],
   "source": []
  }
 ],
 "metadata": {
  "kernelspec": {
   "display_name": "DL-Labs",
   "language": "python",
   "name": "dl-labs"
  },
  "language_info": {
   "codemirror_mode": {
    "name": "ipython",
    "version": 3
   },
   "file_extension": ".py",
   "mimetype": "text/x-python",
   "name": "python",
   "nbconvert_exporter": "python",
   "pygments_lexer": "ipython3",
   "version": "3.9.1"
  },
  "toc-autonumbering": true,
  "toc-showcode": false,
  "toc-showmarkdowntxt": false,
  "toc-showtags": true
 },
 "nbformat": 4,
 "nbformat_minor": 4
}
